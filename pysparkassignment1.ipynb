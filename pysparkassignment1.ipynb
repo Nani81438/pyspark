{
  "cells": [
    {
      "cell_type": "markdown",
      "metadata": {
        "id": "view-in-github",
        "colab_type": "text"
      },
      "source": [
        "<a href=\"https://colab.research.google.com/github/Nani81438/Vn2T03/blob/main/pysparkassignment1.ipynb\" target=\"_parent\"><img src=\"https://colab.research.google.com/assets/colab-badge.svg\" alt=\"Open In Colab\"/></a>"
      ]
    },
    {
      "cell_type": "code",
      "execution_count": 2,
      "metadata": {
        "colab": {
          "base_uri": "https://localhost:8080/"
        },
        "id": "FyxajpIr_43O",
        "outputId": "60a7a22b-78fb-409d-9886-c870f0cd5ef1"
      },
      "outputs": [
        {
          "output_type": "stream",
          "name": "stdout",
          "text": [
            "Looking in indexes: https://pypi.org/simple, https://us-python.pkg.dev/colab-wheels/public/simple/\n",
            "Collecting spark\n",
            "  Downloading spark-0.2.1.tar.gz (41 kB)\n",
            "\u001b[K     |████████████████████████████████| 41 kB 83 kB/s \n",
            "\u001b[?25hBuilding wheels for collected packages: spark\n",
            "  Building wheel for spark (setup.py) ... \u001b[?25l\u001b[?25hdone\n",
            "  Created wheel for spark: filename=spark-0.2.1-py3-none-any.whl size=58762 sha256=3d68f40e87ae4d476e2e776993c43b45bd87e0a057a46a269ed7717691bc4f1c\n",
            "  Stored in directory: /root/.cache/pip/wheels/4e/0e/f1/164619f9920fb447d294afaae11a7715bd442ded7225953d72\n",
            "Successfully built spark\n",
            "Installing collected packages: spark\n",
            "Successfully installed spark-0.2.1\n"
          ]
        }
      ],
      "source": [
        "pip install spark"
      ]
    },
    {
      "cell_type": "code",
      "execution_count": 3,
      "metadata": {
        "colab": {
          "base_uri": "https://localhost:8080/"
        },
        "id": "SD9ub-CZA7ZQ",
        "outputId": "21d98744-d226-4f53-cae2-4b281291eef1"
      },
      "outputs": [
        {
          "output_type": "stream",
          "name": "stdout",
          "text": [
            "Looking in indexes: https://pypi.org/simple, https://us-python.pkg.dev/colab-wheels/public/simple/\n",
            "Collecting pyspark\n",
            "  Downloading pyspark-3.2.1.tar.gz (281.4 MB)\n",
            "\u001b[K     |████████████████████████████████| 281.4 MB 35 kB/s \n",
            "\u001b[?25hCollecting py4j==0.10.9.3\n",
            "  Downloading py4j-0.10.9.3-py2.py3-none-any.whl (198 kB)\n",
            "\u001b[K     |████████████████████████████████| 198 kB 35.8 MB/s \n",
            "\u001b[?25hBuilding wheels for collected packages: pyspark\n",
            "  Building wheel for pyspark (setup.py) ... \u001b[?25l\u001b[?25hdone\n",
            "  Created wheel for pyspark: filename=pyspark-3.2.1-py2.py3-none-any.whl size=281853642 sha256=b9c642e32048759139c17018579f431637918faf3ff157fbd94623393478d1bf\n",
            "  Stored in directory: /root/.cache/pip/wheels/9f/f5/07/7cd8017084dce4e93e84e92efd1e1d5334db05f2e83bcef74f\n",
            "Successfully built pyspark\n",
            "Installing collected packages: py4j, pyspark\n",
            "Successfully installed py4j-0.10.9.3 pyspark-3.2.1\n"
          ]
        }
      ],
      "source": [
        "pip install pyspark"
      ]
    },
    {
      "cell_type": "code",
      "execution_count": 4,
      "metadata": {
        "id": "4SG6Ntf7BTkZ"
      },
      "outputs": [],
      "source": [
        "import pyspark\n"
      ]
    },
    {
      "cell_type": "code",
      "execution_count": 5,
      "metadata": {
        "id": "VXE2eidHB0Z1"
      },
      "outputs": [],
      "source": [
        "from pyspark.sql import *"
      ]
    },
    {
      "cell_type": "code",
      "execution_count": 6,
      "metadata": {
        "id": "YPprPv4zB_FK"
      },
      "outputs": [],
      "source": [
        "spark = SparkSession.builder.appName('practice').getOrCreate()"
      ]
    },
    {
      "cell_type": "code",
      "execution_count": 7,
      "metadata": {
        "id": "O916RCdLDH9M",
        "colab": {
          "base_uri": "https://localhost:8080/",
          "height": 219
        },
        "outputId": "940a4cc3-bf9e-4229-9762-29daa95d1807"
      },
      "outputs": [
        {
          "output_type": "execute_result",
          "data": {
            "text/plain": [
              "<pyspark.sql.session.SparkSession at 0x7f26ec7bb990>"
            ],
            "text/html": [
              "\n",
              "            <div>\n",
              "                <p><b>SparkSession - in-memory</b></p>\n",
              "                \n",
              "        <div>\n",
              "            <p><b>SparkContext</b></p>\n",
              "\n",
              "            <p><a href=\"http://440e301f82c6:4040\">Spark UI</a></p>\n",
              "\n",
              "            <dl>\n",
              "              <dt>Version</dt>\n",
              "                <dd><code>v3.2.1</code></dd>\n",
              "              <dt>Master</dt>\n",
              "                <dd><code>local[*]</code></dd>\n",
              "              <dt>AppName</dt>\n",
              "                <dd><code>practice</code></dd>\n",
              "            </dl>\n",
              "        </div>\n",
              "        \n",
              "            </div>\n",
              "        "
            ]
          },
          "metadata": {},
          "execution_count": 7
        }
      ],
      "source": [
        "spark"
      ]
    },
    {
      "cell_type": "code",
      "execution_count": 9,
      "metadata": {
        "id": "k0IiuFRiDq0B"
      },
      "outputs": [],
      "source": [
        "df = spark.read.csv(\"/content/1000 BT Records.csv\",header = True,inferSchema =True)\n",
        "\n"
      ]
    },
    {
      "cell_type": "code",
      "source": [
        "df.show()"
      ],
      "metadata": {
        "colab": {
          "base_uri": "https://localhost:8080/"
        },
        "id": "eE4tlCp8qcPa",
        "outputId": "f821d169-8d5c-497f-ff3d-8ef49f066e62"
      },
      "execution_count": 10,
      "outputs": [
        {
          "output_type": "stream",
          "name": "stdout",
          "text": [
            "+-----------+-------------+------------+------------+------------+\n",
            "|       Date|  Description|    Deposits|  Withdrawls|     Balance|\n",
            "+-----------+-------------+------------+------------+------------+\n",
            "|20-Aug-2020|       Cheque|    3,391.02|       00.00|   83,839.30|\n",
            "|20-Aug-2020|          ATM|  147,844.20|       00.00|  231,683.50|\n",
            "|20-Aug-2020|         IMPS|   17,192.00|       00.00|  248,875.50|\n",
            "|21-Aug-2020|     Transfer|       08.00|       00.00|  248,883.50|\n",
            "|21-Aug-2020|     Purchase|       00.00|   82,961.17|  165,922.33|\n",
            "|21-Aug-2020|          Tax|   24,459.40|       00.00|  190,381.73|\n",
            "|21-Aug-2020|     Reversal|       00.00|   19,038.17|  171,343.56|\n",
            "|21-Aug-2020|   Commission|  305,878.00|       00.00|  477,221.56|\n",
            "|21-Aug-2020|     Reversal|1,144,337.80|       00.00|1,621,559.36|\n",
            "|21-Aug-2020|     Interest|       00.00|  405,389.84|1,216,169.52|\n",
            "|21-Aug-2020|   Commission|       33.08|       00.00|1,216,202.60|\n",
            "|21-Aug-2020|   Commission|   20,014.02|       00.00|1,236,216.62|\n",
            "|21-Aug-2020|          ATM|       00.00|1,236,216.62|       00.00|\n",
            "|22-Aug-2020|         Cash|    4,031.60|       00.00|    4,031.60|\n",
            "|22-Aug-2020|       Cheque|       04.90|       00.00|    4,036.50|\n",
            "|22-Aug-2020|Miscellaneous|      488.61|       00.00|    4,525.11|\n",
            "|22-Aug-2020|     Interest|  667,800.00|       00.00|  672,325.11|\n",
            "|22-Aug-2020|     Reversal|       00.00|  112,054.19|  560,270.93|\n",
            "|22-Aug-2020|     Purchase|  162,939.70|       00.00|  723,210.63|\n",
            "|22-Aug-2020|     Interest|      361.00|       00.00|  723,571.63|\n",
            "+-----------+-------------+------------+------------+------------+\n",
            "only showing top 20 rows\n",
            "\n"
          ]
        }
      ]
    },
    {
      "cell_type": "code",
      "source": [
        "df"
      ],
      "metadata": {
        "colab": {
          "base_uri": "https://localhost:8080/"
        },
        "id": "L4xQFp1HsIlm",
        "outputId": "157c9aa4-41f2-4cf4-b9a7-b80d8503d57c"
      },
      "execution_count": 11,
      "outputs": [
        {
          "output_type": "execute_result",
          "data": {
            "text/plain": [
              "DataFrame[Date: string, Description: string, Deposits: string, Withdrawls: string, Balance: string]"
            ]
          },
          "metadata": {},
          "execution_count": 11
        }
      ]
    },
    {
      "cell_type": "code",
      "source": [
        "type(df)"
      ],
      "metadata": {
        "colab": {
          "base_uri": "https://localhost:8080/"
        },
        "id": "OKVnYp0LuDPt",
        "outputId": "369d985a-b017-4748-d2d1-744f13182045"
      },
      "execution_count": 12,
      "outputs": [
        {
          "output_type": "execute_result",
          "data": {
            "text/plain": [
              "pyspark.sql.dataframe.DataFrame"
            ]
          },
          "metadata": {},
          "execution_count": 12
        }
      ]
    },
    {
      "cell_type": "code",
      "source": [
        "df.printSchema()"
      ],
      "metadata": {
        "id": "lM5B1lgQvbTe"
      },
      "execution_count": null,
      "outputs": []
    },
    {
      "cell_type": "code",
      "source": [
        "cheque_df = df.filter((df.Description == \"Cheque\"))"
      ],
      "metadata": {
        "id": "AUrlrtEqvjkZ"
      },
      "execution_count": 15,
      "outputs": []
    },
    {
      "cell_type": "code",
      "source": [
        "cheque_df.show()"
      ],
      "metadata": {
        "colab": {
          "base_uri": "https://localhost:8080/"
        },
        "id": "Kh8Vk2V6wTx2",
        "outputId": "4cd1e66d-0cfd-4c4f-99ff-6d592a30514d"
      },
      "execution_count": 16,
      "outputs": [
        {
          "output_type": "stream",
          "name": "stdout",
          "text": [
            "+-----------+-----------+----------+------------+------------+\n",
            "|       Date|Description|  Deposits|  Withdrawls|     Balance|\n",
            "+-----------+-----------+----------+------------+------------+\n",
            "|20-Aug-2020|     Cheque|  3,391.02|       00.00|   83,839.30|\n",
            "|22-Aug-2020|     Cheque|     04.90|       00.00|    4,036.50|\n",
            "|23-Aug-2020|     Cheque|     00.00|   51,683.69|  413,469.50|\n",
            "|23-Aug-2020|     Cheque|  2,952.00|       00.00|  264,750.85|\n",
            "|23-Aug-2020|     Cheque|    429.53|       00.00|  626,223.11|\n",
            "|23-Aug-2020|     Cheque|     00.00|  440,696.14|1,322,088.40|\n",
            "|24-Aug-2020|     Cheque| 21,261.31|       00.00|  109,584.81|\n",
            "|25-Aug-2020|     Cheque|     00.00|       00.01|       00.06|\n",
            "|25-Aug-2020|     Cheque|     19.70|       00.00|       19.76|\n",
            "|26-Aug-2020|     Cheque|     00.00|  306,731.39|  613,462.77|\n",
            "|26-Aug-2020|     Cheque|  1,377.60|       00.00|2,476,290.70|\n",
            "|27-Aug-2020|     Cheque|     04.00|       00.00|       04.00|\n",
            "|29-Aug-2020|     Cheque|  1,980.76|       00.00|   30,545.36|\n",
            "|29-Aug-2020|     Cheque|     00.00|1,339,526.83|       00.00|\n",
            "|31-Aug-2020|     Cheque|     00.00|  221,321.39|  885,285.57|\n",
            "|31-Aug-2020|     Cheque|  2,267.40|       00.00|2,889,958.27|\n",
            "|01-Sep-2020|     Cheque|154,027.00|       00.00|1,138,339.33|\n",
            "|01-Sep-2020|     Cheque|     00.00|  249,310.54|  498,621.08|\n",
            "|02-Sep-2020|     Cheque|  2,025.80|       00.00|  132,094.79|\n",
            "|05-Sep-2020|     Cheque|     00.00|   32,241.92|  193,451.53|\n",
            "+-----------+-----------+----------+------------+------------+\n",
            "only showing top 20 rows\n",
            "\n"
          ]
        }
      ]
    },
    {
      "cell_type": "code",
      "source": [
        "atm_df = df.filter((df.Description == \"ATM\"))"
      ],
      "metadata": {
        "id": "dSFF3Fv0wj8H"
      },
      "execution_count": 17,
      "outputs": []
    },
    {
      "cell_type": "code",
      "source": [
        ""
      ],
      "metadata": {
        "id": "hAl9VdfkKWgT"
      },
      "execution_count": null,
      "outputs": []
    },
    {
      "cell_type": "code",
      "source": [
        "atm_df.show(n=5)"
      ],
      "metadata": {
        "colab": {
          "base_uri": "https://localhost:8080/"
        },
        "id": "QmkJ9Mzhw-EF",
        "outputId": "7eea1694-2e80-4729-83e4-1692acf9c17b"
      },
      "execution_count": 18,
      "outputs": [
        {
          "output_type": "stream",
          "name": "stdout",
          "text": [
            "+-----------+-----------+----------+------------+----------+\n",
            "|       Date|Description|  Deposits|  Withdrawls|   Balance|\n",
            "+-----------+-----------+----------+------------+----------+\n",
            "|20-Aug-2020|        ATM|147,844.20|       00.00|231,683.50|\n",
            "|21-Aug-2020|        ATM|     00.00|1,236,216.62|     00.00|\n",
            "|23-Aug-2020|        ATM|     00.00|   15,986.99|     00.00|\n",
            "|23-Aug-2020|        ATM|     00.00|   58,177.52|349,065.13|\n",
            "|26-Aug-2020|        ATM| 28,882.63|       00.00|281,553.60|\n",
            "+-----------+-----------+----------+------------+----------+\n",
            "only showing top 5 rows\n",
            "\n"
          ]
        }
      ]
    },
    {
      "cell_type": "code",
      "source": [
        "imps_df = df.filter((df.Description == \"IMPS\"))"
      ],
      "metadata": {
        "id": "VXVekAkgxDOe"
      },
      "execution_count": 19,
      "outputs": []
    },
    {
      "cell_type": "code",
      "source": [
        "imps_df.show(5)"
      ],
      "metadata": {
        "colab": {
          "base_uri": "https://localhost:8080/"
        },
        "id": "QJUyc_XZxPBM",
        "outputId": "f5d0b65e-e141-4da4-e84c-818e6807c0c6"
      },
      "execution_count": 20,
      "outputs": [
        {
          "output_type": "stream",
          "name": "stdout",
          "text": [
            "+-----------+-----------+---------+----------+----------+\n",
            "|       Date|Description| Deposits|Withdrawls|   Balance|\n",
            "+-----------+-----------+---------+----------+----------+\n",
            "|20-Aug-2020|       IMPS|17,192.00|     00.00|248,875.50|\n",
            "|23-Aug-2020|       IMPS|    00.00| 66,187.71|198,563.14|\n",
            "|24-Aug-2020|       IMPS| 7,264.00|     00.00|  7,270.50|\n",
            "|26-Aug-2020|       IMPS|   242.65|     00.00|846,543.48|\n",
            "|26-Aug-2020|       IMPS|    26.00|     00.00|774,917.70|\n",
            "+-----------+-----------+---------+----------+----------+\n",
            "only showing top 5 rows\n",
            "\n"
          ]
        }
      ]
    },
    {
      "cell_type": "code",
      "source": [
        "transfer_df = df.filter((df.Description == \"Transfer\"))"
      ],
      "metadata": {
        "id": "WMx0XLN1zkfM"
      },
      "execution_count": 21,
      "outputs": []
    },
    {
      "cell_type": "code",
      "source": [
        "transfer_df.show(n=5)"
      ],
      "metadata": {
        "colab": {
          "base_uri": "https://localhost:8080/"
        },
        "id": "jcjbbaj6znu7",
        "outputId": "1aa9c429-b923-4715-9994-de22c9d7ce90"
      },
      "execution_count": 22,
      "outputs": [
        {
          "output_type": "stream",
          "name": "stdout",
          "text": [
            "+-----------+-----------+--------+----------+------------+\n",
            "|       Date|Description|Deposits|Withdrawls|     Balance|\n",
            "+-----------+-----------+--------+----------+------------+\n",
            "|21-Aug-2020|   Transfer|   08.00|     00.00|  248,883.50|\n",
            "|23-Aug-2020|   Transfer|   34.93|     00.00|1,018,491.02|\n",
            "|23-Aug-2020|   Transfer|   00.00|  1,150.52|    2,301.04|\n",
            "|23-Aug-2020|   Transfer|   26.90|     00.00|1,322,115.30|\n",
            "|23-Aug-2020|   Transfer|  308.80|     00.00|  651,951.03|\n",
            "+-----------+-----------+--------+----------+------------+\n",
            "only showing top 5 rows\n",
            "\n"
          ]
        }
      ]
    },
    {
      "cell_type": "code",
      "source": [
        "Purchase_df = df.filter((df.Description == \"Purchase\"))"
      ],
      "metadata": {
        "id": "BTbZzEomzkbz"
      },
      "execution_count": 23,
      "outputs": []
    },
    {
      "cell_type": "code",
      "source": [
        "Purchase_df.show(n=5)"
      ],
      "metadata": {
        "colab": {
          "base_uri": "https://localhost:8080/"
        },
        "id": "379RQKWFzo45",
        "outputId": "a3349572-3c1b-4ac2-ff90-3b9377bfe384"
      },
      "execution_count": 24,
      "outputs": [
        {
          "output_type": "stream",
          "name": "stdout",
          "text": [
            "+-----------+-----------+----------+----------+----------+\n",
            "|       Date|Description|  Deposits|Withdrawls|   Balance|\n",
            "+-----------+-----------+----------+----------+----------+\n",
            "|21-Aug-2020|   Purchase|     00.00| 82,961.17|165,922.33|\n",
            "|22-Aug-2020|   Purchase|162,939.70|     00.00|723,210.63|\n",
            "|23-Aug-2020|   Purchase|     00.00| 93,030.64|558,183.83|\n",
            "|23-Aug-2020|   Purchase|     00.00| 45,941.06|367,528.44|\n",
            "|23-Aug-2020|   Purchase|     06.11|     00.00|     06.11|\n",
            "+-----------+-----------+----------+----------+----------+\n",
            "only showing top 5 rows\n",
            "\n"
          ]
        }
      ]
    },
    {
      "cell_type": "code",
      "source": [
        "Tax_df = df.filter((df.Description == \"Tax\"))"
      ],
      "metadata": {
        "id": "Czt7HlwBzkW1"
      },
      "execution_count": 25,
      "outputs": []
    },
    {
      "cell_type": "code",
      "source": [
        "Tax_df.show(n=5)"
      ],
      "metadata": {
        "colab": {
          "base_uri": "https://localhost:8080/"
        },
        "id": "0CJppDiPzpor",
        "outputId": "cd237f92-54d2-4360-86d8-0cb64a74398a"
      },
      "execution_count": 26,
      "outputs": [
        {
          "output_type": "stream",
          "name": "stdout",
          "text": [
            "+-----------+-----------+----------+----------+----------+\n",
            "|       Date|Description|  Deposits|Withdrawls|   Balance|\n",
            "+-----------+-----------+----------+----------+----------+\n",
            "|21-Aug-2020|        Tax| 24,459.40|     00.00|190,381.73|\n",
            "|23-Aug-2020|        Tax|     46.00|     00.00|    291.20|\n",
            "|23-Aug-2020|        Tax|     00.00|    355.02|  1,420.07|\n",
            "|23-Aug-2020|        Tax|     00.00|135,747.55|407,242.65|\n",
            "|24-Aug-2020|        Tax|392,733.00|     00.00|936,025.52|\n",
            "+-----------+-----------+----------+----------+----------+\n",
            "only showing top 5 rows\n",
            "\n"
          ]
        }
      ]
    },
    {
      "cell_type": "code",
      "source": [
        "Reversal_df = df.filter((df.Description == \"Reversal\"))"
      ],
      "metadata": {
        "id": "N2eiX-eSzkT-"
      },
      "execution_count": 27,
      "outputs": []
    },
    {
      "cell_type": "code",
      "source": [
        "Reversal_df.show(n=5)"
      ],
      "metadata": {
        "colab": {
          "base_uri": "https://localhost:8080/"
        },
        "id": "pUluREJGzqAU",
        "outputId": "d40acc4a-deea-496d-9068-05934baa6b58"
      },
      "execution_count": 28,
      "outputs": [
        {
          "output_type": "stream",
          "name": "stdout",
          "text": [
            "+-----------+-----------+------------+----------+------------+\n",
            "|       Date|Description|    Deposits|Withdrawls|     Balance|\n",
            "+-----------+-----------+------------+----------+------------+\n",
            "|21-Aug-2020|   Reversal|       00.00| 19,038.17|  171,343.56|\n",
            "|21-Aug-2020|   Reversal|1,144,337.80|     00.00|1,621,559.36|\n",
            "|22-Aug-2020|   Reversal|       00.00|112,054.19|  560,270.93|\n",
            "|23-Aug-2020|   Reversal|       00.00|542,990.21|  542,990.20|\n",
            "|23-Aug-2020|   Reversal|       00.00|144,135.40|1,008,947.76|\n",
            "+-----------+-----------+------------+----------+------------+\n",
            "only showing top 5 rows\n",
            "\n"
          ]
        }
      ]
    },
    {
      "cell_type": "code",
      "source": [
        "Interest_df = df.filter((df.Description == \"Interest\"))"
      ],
      "metadata": {
        "id": "9nWvH4n_zkRB"
      },
      "execution_count": 29,
      "outputs": []
    },
    {
      "cell_type": "code",
      "source": [
        "Interest_df.show()"
      ],
      "metadata": {
        "colab": {
          "base_uri": "https://localhost:8080/"
        },
        "id": "QBzx3MZlzkN7",
        "outputId": "476aece2-9fa3-4415-a2d6-fd99121c4491"
      },
      "execution_count": 30,
      "outputs": [
        {
          "output_type": "stream",
          "name": "stdout",
          "text": [
            "+-----------+-----------+----------+----------+------------+\n",
            "|       Date|Description|  Deposits|Withdrawls|     Balance|\n",
            "+-----------+-----------+----------+----------+------------+\n",
            "|21-Aug-2020|   Interest|     00.00|405,389.84|1,216,169.52|\n",
            "|22-Aug-2020|   Interest|667,800.00|     00.00|  672,325.11|\n",
            "|22-Aug-2020|   Interest|    361.00|     00.00|  723,571.63|\n",
            "|23-Aug-2020|   Interest|     00.00| 87,266.28|  261,798.85|\n",
            "|23-Aug-2020|   Interest|    253.26|     00.00|  132,638.45|\n",
            "|23-Aug-2020|   Interest|     05.90|     00.00|  106,116.66|\n",
            "|23-Aug-2020|   Interest|     66.70|     00.00|  882,900.36|\n",
            "|23-Aug-2020|   Interest|     00.00| 69,528.88|  625,759.88|\n",
            "|23-Aug-2020|   Interest|     00.00|220,348.07|1,762,784.54|\n",
            "|24-Aug-2020|   Interest|     00.00| 10,958.48|   98,626.33|\n",
            "|26-Aug-2020|   Interest|  8,877.00|     00.00|    8,886.68|\n",
            "|26-Aug-2020|   Interest|  6,572.59|     00.00|2,195,422.82|\n",
            "|26-Aug-2020|   Interest|     00.00|545,864.58|2,729,322.88|\n",
            "|26-Aug-2020|   Interest| 20,133.00|     00.00|2,749,903.45|\n",
            "|27-Aug-2020|   Interest|     31.20|     00.00|2,103,912.58|\n",
            "|01-Sep-2020|   Interest|  1,366.00|     00.00|1,139,705.33|\n",
            "|01-Sep-2020|   Interest|     00.00|249,310.54|  747,931.62|\n",
            "|05-Sep-2020|   Interest|    114.00|     00.00|  223,688.05|\n",
            "|05-Sep-2020|   Interest|    191.00|     00.00|      234.98|\n",
            "|05-Sep-2020|   Interest|     00.00|     29.84|      179.03|\n",
            "+-----------+-----------+----------+----------+------------+\n",
            "only showing top 20 rows\n",
            "\n"
          ]
        }
      ]
    },
    {
      "cell_type": "code",
      "source": [
        "commission_df = df.filter((df.Description=='Commission'))"
      ],
      "metadata": {
        "id": "uz2_QF9OzkKz"
      },
      "execution_count": 31,
      "outputs": []
    },
    {
      "cell_type": "code",
      "source": [
        "commission_df.show()"
      ],
      "metadata": {
        "colab": {
          "base_uri": "https://localhost:8080/"
        },
        "id": "Qe1qux01zj-e",
        "outputId": "94d8016f-1d12-4973-f7b5-72867886ceee"
      },
      "execution_count": 32,
      "outputs": [
        {
          "output_type": "stream",
          "name": "stdout",
          "text": [
            "+-----------+-----------+------------+----------+------------+\n",
            "|       Date|Description|    Deposits|Withdrawls|     Balance|\n",
            "+-----------+-----------+------------+----------+------------+\n",
            "|21-Aug-2020| Commission|  305,878.00|     00.00|  477,221.56|\n",
            "|21-Aug-2020| Commission|       33.08|     00.00|1,216,202.60|\n",
            "|21-Aug-2020| Commission|   20,014.02|     00.00|1,236,216.62|\n",
            "|23-Aug-2020| Commission|       00.00|     19.41|      174.72|\n",
            "|23-Aug-2020| Commission|1,190,196.80|     00.00|1,223,003.61|\n",
            "|23-Aug-2020| Commission|       00.00|443,478.74|  886,957.48|\n",
            "|24-Aug-2020| Commission|       06.50|     00.00|       06.50|\n",
            "|24-Aug-2020| Commission|       00.00| 13,699.80|   68,498.98|\n",
            "|26-Aug-2020| Commission|  372,901.00|     00.00|  378,899.51|\n",
            "|26-Aug-2020| Commission|       00.00|306,731.39|  920,194.16|\n",
            "|26-Aug-2020| Commission|       00.00|557,940.74|       00.00|\n",
            "|26-Aug-2020| Commission|1,141,399.50|     00.00|3,192,073.25|\n",
            "|26-Aug-2020| Commission|       08.00|     00.00|2,195,430.82|\n",
            "|26-Aug-2020| Commission|       00.00|439,086.16|1,756,344.66|\n",
            "|26-Aug-2020| Commission|  108,095.72|     00.00|2,089,128.28|\n",
            "|27-Aug-2020| Commission|       00.00|     00.25|       01.50|\n",
            "|31-Aug-2020| Commission|1,434,390.00|     00.00|1,475,475.95|\n",
            "|31-Aug-2020| Commission|       00.00|145,465.47|  727,327.32|\n",
            "|31-Aug-2020| Commission|       02.30|     00.00|       55.50|\n",
            "|02-Sep-2020| Commission|       00.00|132,094.79|       00.00|\n",
            "+-----------+-----------+------------+----------+------------+\n",
            "only showing top 20 rows\n",
            "\n"
          ]
        }
      ]
    },
    {
      "cell_type": "code",
      "source": [
        "df.describe().show()"
      ],
      "metadata": {
        "colab": {
          "base_uri": "https://localhost:8080/"
        },
        "id": "ySVoZGhUxTkf",
        "outputId": "41d7e05d-a427-440c-e517-de179432a62d"
      },
      "execution_count": 33,
      "outputs": [
        {
          "output_type": "stream",
          "name": "stdout",
          "text": [
            "+-------+-----------+-----------+------------------+------------------+------------------+\n",
            "|summary|       Date|Description|          Deposits|        Withdrawls|           Balance|\n",
            "+-------+-----------+-----------+------------------+------------------+------------------+\n",
            "|  count|       1000|       1000|              1000|              1000|              1000|\n",
            "|   mean|       null|       null|  46.2909090909091|18.471862745098043|106.54398843930639|\n",
            "| stddev|       null|       null|126.38662857144023| 93.43888743400261| 181.1357926623517|\n",
            "|    min|01-Oct-2020|        ATM|             00.00|             00.00|             00.00|\n",
            "|    max|31-Aug-2020|   Transfer|        994,038.00|        998,185.43|        998,185.43|\n",
            "+-------+-----------+-----------+------------------+------------------+------------------+\n",
            "\n"
          ]
        }
      ]
    },
    {
      "cell_type": "code",
      "source": [
        "df.dtypes"
      ],
      "metadata": {
        "id": "rl8fZiBFxbYJ"
      },
      "execution_count": null,
      "outputs": []
    },
    {
      "cell_type": "code",
      "source": [
        "#printing certain required columns\n",
        "df.select(['Deposits','Withdrawls']).show() "
      ],
      "metadata": {
        "colab": {
          "base_uri": "https://localhost:8080/"
        },
        "id": "TEH88ywCxgFn",
        "outputId": "c4ec4761-00d2-40d8-af70-74795afad34d"
      },
      "execution_count": 34,
      "outputs": [
        {
          "output_type": "stream",
          "name": "stdout",
          "text": [
            "+------------+------------+\n",
            "|    Deposits|  Withdrawls|\n",
            "+------------+------------+\n",
            "|    3,391.02|       00.00|\n",
            "|  147,844.20|       00.00|\n",
            "|   17,192.00|       00.00|\n",
            "|       08.00|       00.00|\n",
            "|       00.00|   82,961.17|\n",
            "|   24,459.40|       00.00|\n",
            "|       00.00|   19,038.17|\n",
            "|  305,878.00|       00.00|\n",
            "|1,144,337.80|       00.00|\n",
            "|       00.00|  405,389.84|\n",
            "|       33.08|       00.00|\n",
            "|   20,014.02|       00.00|\n",
            "|       00.00|1,236,216.62|\n",
            "|    4,031.60|       00.00|\n",
            "|       04.90|       00.00|\n",
            "|      488.61|       00.00|\n",
            "|  667,800.00|       00.00|\n",
            "|       00.00|  112,054.19|\n",
            "|  162,939.70|       00.00|\n",
            "|      361.00|       00.00|\n",
            "+------------+------------+\n",
            "only showing top 20 rows\n",
            "\n"
          ]
        }
      ]
    },
    {
      "cell_type": "code",
      "source": [
        "#adding column\n",
        "df.withColumn('bal',df['balance']+1000).show()"
      ],
      "metadata": {
        "id": "QJKQqHdtynut",
        "colab": {
          "base_uri": "https://localhost:8080/"
        },
        "outputId": "03bbd769-6832-4b93-f9f0-f60f71b318c6"
      },
      "execution_count": 35,
      "outputs": [
        {
          "output_type": "stream",
          "name": "stdout",
          "text": [
            "+-----------+-------------+------------+------------+------------+------+\n",
            "|       Date|  Description|    Deposits|  Withdrawls|     Balance|   bal|\n",
            "+-----------+-------------+------------+------------+------------+------+\n",
            "|20-Aug-2020|       Cheque|    3,391.02|       00.00|   83,839.30|  null|\n",
            "|20-Aug-2020|          ATM|  147,844.20|       00.00|  231,683.50|  null|\n",
            "|20-Aug-2020|         IMPS|   17,192.00|       00.00|  248,875.50|  null|\n",
            "|21-Aug-2020|     Transfer|       08.00|       00.00|  248,883.50|  null|\n",
            "|21-Aug-2020|     Purchase|       00.00|   82,961.17|  165,922.33|  null|\n",
            "|21-Aug-2020|          Tax|   24,459.40|       00.00|  190,381.73|  null|\n",
            "|21-Aug-2020|     Reversal|       00.00|   19,038.17|  171,343.56|  null|\n",
            "|21-Aug-2020|   Commission|  305,878.00|       00.00|  477,221.56|  null|\n",
            "|21-Aug-2020|     Reversal|1,144,337.80|       00.00|1,621,559.36|  null|\n",
            "|21-Aug-2020|     Interest|       00.00|  405,389.84|1,216,169.52|  null|\n",
            "|21-Aug-2020|   Commission|       33.08|       00.00|1,216,202.60|  null|\n",
            "|21-Aug-2020|   Commission|   20,014.02|       00.00|1,236,216.62|  null|\n",
            "|21-Aug-2020|          ATM|       00.00|1,236,216.62|       00.00|1000.0|\n",
            "|22-Aug-2020|         Cash|    4,031.60|       00.00|    4,031.60|  null|\n",
            "|22-Aug-2020|       Cheque|       04.90|       00.00|    4,036.50|  null|\n",
            "|22-Aug-2020|Miscellaneous|      488.61|       00.00|    4,525.11|  null|\n",
            "|22-Aug-2020|     Interest|  667,800.00|       00.00|  672,325.11|  null|\n",
            "|22-Aug-2020|     Reversal|       00.00|  112,054.19|  560,270.93|  null|\n",
            "|22-Aug-2020|     Purchase|  162,939.70|       00.00|  723,210.63|  null|\n",
            "|22-Aug-2020|     Interest|      361.00|       00.00|  723,571.63|  null|\n",
            "+-----------+-------------+------------+------------+------------+------+\n",
            "only showing top 20 rows\n",
            "\n"
          ]
        }
      ]
    },
    {
      "cell_type": "code",
      "source": [
        "#dropping the columnn\n",
        "df.drop('bal').show()"
      ],
      "metadata": {
        "colab": {
          "base_uri": "https://localhost:8080/"
        },
        "id": "i64rTCnoL1U2",
        "outputId": "b78348a5-a5be-40bb-bde6-4150554b504c"
      },
      "execution_count": 36,
      "outputs": [
        {
          "output_type": "stream",
          "name": "stdout",
          "text": [
            "+-----------+-------------+------------+------------+------------+\n",
            "|       Date|  Description|    Deposits|  Withdrawls|     Balance|\n",
            "+-----------+-------------+------------+------------+------------+\n",
            "|20-Aug-2020|       Cheque|    3,391.02|       00.00|   83,839.30|\n",
            "|20-Aug-2020|          ATM|  147,844.20|       00.00|  231,683.50|\n",
            "|20-Aug-2020|         IMPS|   17,192.00|       00.00|  248,875.50|\n",
            "|21-Aug-2020|     Transfer|       08.00|       00.00|  248,883.50|\n",
            "|21-Aug-2020|     Purchase|       00.00|   82,961.17|  165,922.33|\n",
            "|21-Aug-2020|          Tax|   24,459.40|       00.00|  190,381.73|\n",
            "|21-Aug-2020|     Reversal|       00.00|   19,038.17|  171,343.56|\n",
            "|21-Aug-2020|   Commission|  305,878.00|       00.00|  477,221.56|\n",
            "|21-Aug-2020|     Reversal|1,144,337.80|       00.00|1,621,559.36|\n",
            "|21-Aug-2020|     Interest|       00.00|  405,389.84|1,216,169.52|\n",
            "|21-Aug-2020|   Commission|       33.08|       00.00|1,216,202.60|\n",
            "|21-Aug-2020|   Commission|   20,014.02|       00.00|1,236,216.62|\n",
            "|21-Aug-2020|          ATM|       00.00|1,236,216.62|       00.00|\n",
            "|22-Aug-2020|         Cash|    4,031.60|       00.00|    4,031.60|\n",
            "|22-Aug-2020|       Cheque|       04.90|       00.00|    4,036.50|\n",
            "|22-Aug-2020|Miscellaneous|      488.61|       00.00|    4,525.11|\n",
            "|22-Aug-2020|     Interest|  667,800.00|       00.00|  672,325.11|\n",
            "|22-Aug-2020|     Reversal|       00.00|  112,054.19|  560,270.93|\n",
            "|22-Aug-2020|     Purchase|  162,939.70|       00.00|  723,210.63|\n",
            "|22-Aug-2020|     Interest|      361.00|       00.00|  723,571.63|\n",
            "+-----------+-------------+------------+------------+------------+\n",
            "only showing top 20 rows\n",
            "\n"
          ]
        }
      ]
    },
    {
      "cell_type": "code",
      "source": [
        "#renaming the column\n",
        "df.withColumnRenamed('withdrawls','withdrawl').show()"
      ],
      "metadata": {
        "colab": {
          "base_uri": "https://localhost:8080/"
        },
        "id": "p4dKu0XWMG6L",
        "outputId": "694fb78a-9bb6-4587-a6fa-828cf342c1d6"
      },
      "execution_count": 37,
      "outputs": [
        {
          "output_type": "stream",
          "name": "stdout",
          "text": [
            "+-----------+-------------+------------+------------+------------+\n",
            "|       Date|  Description|    Deposits|   withdrawl|     Balance|\n",
            "+-----------+-------------+------------+------------+------------+\n",
            "|20-Aug-2020|       Cheque|    3,391.02|       00.00|   83,839.30|\n",
            "|20-Aug-2020|          ATM|  147,844.20|       00.00|  231,683.50|\n",
            "|20-Aug-2020|         IMPS|   17,192.00|       00.00|  248,875.50|\n",
            "|21-Aug-2020|     Transfer|       08.00|       00.00|  248,883.50|\n",
            "|21-Aug-2020|     Purchase|       00.00|   82,961.17|  165,922.33|\n",
            "|21-Aug-2020|          Tax|   24,459.40|       00.00|  190,381.73|\n",
            "|21-Aug-2020|     Reversal|       00.00|   19,038.17|  171,343.56|\n",
            "|21-Aug-2020|   Commission|  305,878.00|       00.00|  477,221.56|\n",
            "|21-Aug-2020|     Reversal|1,144,337.80|       00.00|1,621,559.36|\n",
            "|21-Aug-2020|     Interest|       00.00|  405,389.84|1,216,169.52|\n",
            "|21-Aug-2020|   Commission|       33.08|       00.00|1,216,202.60|\n",
            "|21-Aug-2020|   Commission|   20,014.02|       00.00|1,236,216.62|\n",
            "|21-Aug-2020|          ATM|       00.00|1,236,216.62|       00.00|\n",
            "|22-Aug-2020|         Cash|    4,031.60|       00.00|    4,031.60|\n",
            "|22-Aug-2020|       Cheque|       04.90|       00.00|    4,036.50|\n",
            "|22-Aug-2020|Miscellaneous|      488.61|       00.00|    4,525.11|\n",
            "|22-Aug-2020|     Interest|  667,800.00|       00.00|  672,325.11|\n",
            "|22-Aug-2020|     Reversal|       00.00|  112,054.19|  560,270.93|\n",
            "|22-Aug-2020|     Purchase|  162,939.70|       00.00|  723,210.63|\n",
            "|22-Aug-2020|     Interest|      361.00|       00.00|  723,571.63|\n",
            "+-----------+-------------+------------+------------+------------+\n",
            "only showing top 20 rows\n",
            "\n"
          ]
        }
      ]
    },
    {
      "cell_type": "code",
      "source": [
        "from pyspark.sql.types import StructField,IntegerType, StructType,StringType, FloatType"
      ],
      "metadata": {
        "id": "G6P47bl5QRHq"
      },
      "execution_count": 45,
      "outputs": []
    },
    {
      "cell_type": "code",
      "source": [
        "#changing the data types of column\n",
        "df1= [StructField('Date',StringType(),True),\n",
        "      StructField('Description',StringType(),True),\n",
        "      StructField('Deposits',FloatType(),True),\n",
        "      StructField('withdrawl',FloatType(),True),\n",
        "      StructField('Balance',FloatType(),True),\n",
        "      ]"
      ],
      "metadata": {
        "id": "Sc3J95t4QX26"
      },
      "execution_count": 48,
      "outputs": []
    },
    {
      "cell_type": "code",
      "source": [
        "#filtering \n",
        "#help(df1.filter('Deposits>=25000.00').show())"
      ],
      "metadata": {
        "id": "QgL2Z-0zMmeW"
      },
      "execution_count": 51,
      "outputs": []
    },
    {
      "cell_type": "code",
      "source": [
        ""
      ],
      "metadata": {
        "id": "Kay3fXtkQQAa"
      },
      "execution_count": null,
      "outputs": []
    },
    {
      "cell_type": "code",
      "source": [
        "df.filter(\"Deposits <=40000 \").select([\"Descrition\",\"Deposits\"]).show()"
      ],
      "metadata": {
        "colab": {
          "base_uri": "https://localhost:8080/",
          "height": 363
        },
        "id": "PrLETmb3N0oC",
        "outputId": "e8c37809-a2f7-4954-ac44-4889f483746e"
      },
      "execution_count": 42,
      "outputs": [
        {
          "output_type": "error",
          "ename": "AnalysisException",
          "evalue": "ignored",
          "traceback": [
            "\u001b[0;31m---------------------------------------------------------------------------\u001b[0m",
            "\u001b[0;31mAnalysisException\u001b[0m                         Traceback (most recent call last)",
            "\u001b[0;32m<ipython-input-42-49383d719ff6>\u001b[0m in \u001b[0;36m<module>\u001b[0;34m()\u001b[0m\n\u001b[0;32m----> 1\u001b[0;31m \u001b[0mdf\u001b[0m\u001b[0;34m.\u001b[0m\u001b[0mfilter\u001b[0m\u001b[0;34m(\u001b[0m\u001b[0;34m\"Deposits <=40000 \"\u001b[0m\u001b[0;34m)\u001b[0m\u001b[0;34m.\u001b[0m\u001b[0mselect\u001b[0m\u001b[0;34m(\u001b[0m\u001b[0;34m[\u001b[0m\u001b[0;34m\"Descrition\"\u001b[0m\u001b[0;34m,\u001b[0m\u001b[0;34m\"Deposits\"\u001b[0m\u001b[0;34m]\u001b[0m\u001b[0;34m)\u001b[0m\u001b[0;34m.\u001b[0m\u001b[0mshow\u001b[0m\u001b[0;34m(\u001b[0m\u001b[0;34m)\u001b[0m\u001b[0;34m\u001b[0m\u001b[0;34m\u001b[0m\u001b[0m\n\u001b[0m",
            "\u001b[0;32m/usr/local/lib/python3.7/dist-packages/pyspark/sql/dataframe.py\u001b[0m in \u001b[0;36mselect\u001b[0;34m(self, *cols)\u001b[0m\n\u001b[1;32m   1683\u001b[0m         \u001b[0;34m[\u001b[0m\u001b[0mRow\u001b[0m\u001b[0;34m(\u001b[0m\u001b[0mname\u001b[0m\u001b[0;34m=\u001b[0m\u001b[0;34m'Alice'\u001b[0m\u001b[0;34m,\u001b[0m \u001b[0mage\u001b[0m\u001b[0;34m=\u001b[0m\u001b[0;36m12\u001b[0m\u001b[0;34m)\u001b[0m\u001b[0;34m,\u001b[0m \u001b[0mRow\u001b[0m\u001b[0;34m(\u001b[0m\u001b[0mname\u001b[0m\u001b[0;34m=\u001b[0m\u001b[0;34m'Bob'\u001b[0m\u001b[0;34m,\u001b[0m \u001b[0mage\u001b[0m\u001b[0;34m=\u001b[0m\u001b[0;36m15\u001b[0m\u001b[0;34m)\u001b[0m\u001b[0;34m]\u001b[0m\u001b[0;34m\u001b[0m\u001b[0;34m\u001b[0m\u001b[0m\n\u001b[1;32m   1684\u001b[0m         \"\"\"\n\u001b[0;32m-> 1685\u001b[0;31m         \u001b[0mjdf\u001b[0m \u001b[0;34m=\u001b[0m \u001b[0mself\u001b[0m\u001b[0;34m.\u001b[0m\u001b[0m_jdf\u001b[0m\u001b[0;34m.\u001b[0m\u001b[0mselect\u001b[0m\u001b[0;34m(\u001b[0m\u001b[0mself\u001b[0m\u001b[0;34m.\u001b[0m\u001b[0m_jcols\u001b[0m\u001b[0;34m(\u001b[0m\u001b[0;34m*\u001b[0m\u001b[0mcols\u001b[0m\u001b[0;34m)\u001b[0m\u001b[0;34m)\u001b[0m\u001b[0;34m\u001b[0m\u001b[0;34m\u001b[0m\u001b[0m\n\u001b[0m\u001b[1;32m   1686\u001b[0m         \u001b[0;32mreturn\u001b[0m \u001b[0mDataFrame\u001b[0m\u001b[0;34m(\u001b[0m\u001b[0mjdf\u001b[0m\u001b[0;34m,\u001b[0m \u001b[0mself\u001b[0m\u001b[0;34m.\u001b[0m\u001b[0msql_ctx\u001b[0m\u001b[0;34m)\u001b[0m\u001b[0;34m\u001b[0m\u001b[0;34m\u001b[0m\u001b[0m\n\u001b[1;32m   1687\u001b[0m \u001b[0;34m\u001b[0m\u001b[0m\n",
            "\u001b[0;32m/usr/local/lib/python3.7/dist-packages/py4j/java_gateway.py\u001b[0m in \u001b[0;36m__call__\u001b[0;34m(self, *args)\u001b[0m\n\u001b[1;32m   1320\u001b[0m         \u001b[0manswer\u001b[0m \u001b[0;34m=\u001b[0m \u001b[0mself\u001b[0m\u001b[0;34m.\u001b[0m\u001b[0mgateway_client\u001b[0m\u001b[0;34m.\u001b[0m\u001b[0msend_command\u001b[0m\u001b[0;34m(\u001b[0m\u001b[0mcommand\u001b[0m\u001b[0;34m)\u001b[0m\u001b[0;34m\u001b[0m\u001b[0;34m\u001b[0m\u001b[0m\n\u001b[1;32m   1321\u001b[0m         return_value = get_return_value(\n\u001b[0;32m-> 1322\u001b[0;31m             answer, self.gateway_client, self.target_id, self.name)\n\u001b[0m\u001b[1;32m   1323\u001b[0m \u001b[0;34m\u001b[0m\u001b[0m\n\u001b[1;32m   1324\u001b[0m         \u001b[0;32mfor\u001b[0m \u001b[0mtemp_arg\u001b[0m \u001b[0;32min\u001b[0m \u001b[0mtemp_args\u001b[0m\u001b[0;34m:\u001b[0m\u001b[0;34m\u001b[0m\u001b[0;34m\u001b[0m\u001b[0m\n",
            "\u001b[0;32m/usr/local/lib/python3.7/dist-packages/pyspark/sql/utils.py\u001b[0m in \u001b[0;36mdeco\u001b[0;34m(*a, **kw)\u001b[0m\n\u001b[1;32m    115\u001b[0m                 \u001b[0;31m# Hide where the exception came from that shows a non-Pythonic\u001b[0m\u001b[0;34m\u001b[0m\u001b[0;34m\u001b[0m\u001b[0;34m\u001b[0m\u001b[0m\n\u001b[1;32m    116\u001b[0m                 \u001b[0;31m# JVM exception message.\u001b[0m\u001b[0;34m\u001b[0m\u001b[0;34m\u001b[0m\u001b[0;34m\u001b[0m\u001b[0m\n\u001b[0;32m--> 117\u001b[0;31m                 \u001b[0;32mraise\u001b[0m \u001b[0mconverted\u001b[0m \u001b[0;32mfrom\u001b[0m \u001b[0;32mNone\u001b[0m\u001b[0;34m\u001b[0m\u001b[0;34m\u001b[0m\u001b[0m\n\u001b[0m\u001b[1;32m    118\u001b[0m             \u001b[0;32melse\u001b[0m\u001b[0;34m:\u001b[0m\u001b[0;34m\u001b[0m\u001b[0;34m\u001b[0m\u001b[0m\n\u001b[1;32m    119\u001b[0m                 \u001b[0;32mraise\u001b[0m\u001b[0;34m\u001b[0m\u001b[0;34m\u001b[0m\u001b[0m\n",
            "\u001b[0;31mAnalysisException\u001b[0m: cannot resolve 'Descrition' given input columns: [Balance, Date, Deposits, Description, Withdrawls];\n'Project ['Descrition, Deposits#18]\n+- Filter (cast(Deposits#18 as int) <= 40000)\n   +- Relation [Date#16,Description#17,Deposits#18,Withdrawls#19,Balance#20] csv\n"
          ]
        }
      ]
    },
    {
      "cell_type": "code",
      "source": [
        ""
      ],
      "metadata": {
        "id": "Q2dPZRXBOq4D"
      },
      "execution_count": null,
      "outputs": []
    }
  ],
  "metadata": {
    "colab": {
      "collapsed_sections": [],
      "name": "pysparkassignment1.ipynb",
      "provenance": [],
      "authorship_tag": "ABX9TyOto8qA0hP7Wg4DkQjRXwMd",
      "include_colab_link": true
    },
    "kernelspec": {
      "display_name": "Python 3",
      "name": "python3"
    },
    "language_info": {
      "name": "python"
    }
  },
  "nbformat": 4,
  "nbformat_minor": 0
}