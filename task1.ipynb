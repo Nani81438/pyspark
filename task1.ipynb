{
  "nbformat": 4,
  "nbformat_minor": 0,
  "metadata": {
    "colab": {
      "name": "task1.ipynb",
      "provenance": [],
      "collapsed_sections": [],
      "authorship_tag": "ABX9TyMSlg772Qy91KMql02N71NO",
      "include_colab_link": true
    },
    "kernelspec": {
      "name": "python3",
      "display_name": "Python 3"
    },
    "language_info": {
      "name": "python"
    }
  },
  "cells": [
    {
      "cell_type": "markdown",
      "metadata": {
        "id": "view-in-github",
        "colab_type": "text"
      },
      "source": [
        "<a href=\"https://colab.research.google.com/github/Nani81438/pyspark/blob/main/task1.ipynb\" target=\"_parent\"><img src=\"https://colab.research.google.com/assets/colab-badge.svg\" alt=\"Open In Colab\"/></a>"
      ]
    },
    {
      "cell_type": "code",
      "execution_count": 1,
      "metadata": {
        "colab": {
          "base_uri": "https://localhost:8080/"
        },
        "id": "OigvcDsGhocY",
        "outputId": "c61c4d8c-6023-4260-b300-8549f459b944"
      },
      "outputs": [
        {
          "output_type": "stream",
          "name": "stdout",
          "text": [
            "Looking in indexes: https://pypi.org/simple, https://us-python.pkg.dev/colab-wheels/public/simple/\n",
            "Collecting spark\n",
            "  Downloading spark-0.2.1.tar.gz (41 kB)\n",
            "\u001b[K     |████████████████████████████████| 41 kB 71 kB/s \n",
            "\u001b[?25hBuilding wheels for collected packages: spark\n",
            "  Building wheel for spark (setup.py) ... \u001b[?25l\u001b[?25hdone\n",
            "  Created wheel for spark: filename=spark-0.2.1-py3-none-any.whl size=58762 sha256=9d77b9b0a3954c6b60fa84e305cf01324ff0fdd2d1ee52a387916332ee9c10aa\n",
            "  Stored in directory: /root/.cache/pip/wheels/4e/0e/f1/164619f9920fb447d294afaae11a7715bd442ded7225953d72\n",
            "Successfully built spark\n",
            "Installing collected packages: spark\n",
            "Successfully installed spark-0.2.1\n"
          ]
        }
      ],
      "source": [
        "pip install spark"
      ]
    },
    {
      "cell_type": "code",
      "source": [
        "pip install pyspark"
      ],
      "metadata": {
        "colab": {
          "base_uri": "https://localhost:8080/"
        },
        "id": "tIdC-b8dhqlY",
        "outputId": "d8ff97da-734a-496d-f900-fade241ecc29"
      },
      "execution_count": 2,
      "outputs": [
        {
          "output_type": "stream",
          "name": "stdout",
          "text": [
            "Looking in indexes: https://pypi.org/simple, https://us-python.pkg.dev/colab-wheels/public/simple/\n",
            "Collecting pyspark\n",
            "  Downloading pyspark-3.3.0.tar.gz (281.3 MB)\n",
            "\u001b[K     |████████████████████████████████| 281.3 MB 46 kB/s \n",
            "\u001b[?25hCollecting py4j==0.10.9.5\n",
            "  Downloading py4j-0.10.9.5-py2.py3-none-any.whl (199 kB)\n",
            "\u001b[K     |████████████████████████████████| 199 kB 43.6 MB/s \n",
            "\u001b[?25hBuilding wheels for collected packages: pyspark\n",
            "  Building wheel for pyspark (setup.py) ... \u001b[?25l\u001b[?25hdone\n",
            "  Created wheel for pyspark: filename=pyspark-3.3.0-py2.py3-none-any.whl size=281764026 sha256=114d8f8a8b962ded243396f08154837f20e19bf823bd59582b3166b501970083\n",
            "  Stored in directory: /root/.cache/pip/wheels/7a/8e/1b/f73a52650d2e5f337708d9f6a1750d451a7349a867f928b885\n",
            "Successfully built pyspark\n",
            "Installing collected packages: py4j, pyspark\n",
            "Successfully installed py4j-0.10.9.5 pyspark-3.3.0\n"
          ]
        }
      ]
    },
    {
      "cell_type": "code",
      "source": [
        "import pyspark\n",
        "from pyspark.sql import *\n",
        "from pyspark.sql.functions import *"
      ],
      "metadata": {
        "id": "IItf6Wmehsly"
      },
      "execution_count": 3,
      "outputs": []
    },
    {
      "cell_type": "code",
      "source": [
        "spark = SparkSession.builder.appName(\"joins\").getOrCreate()"
      ],
      "metadata": {
        "id": "uYYCiLNEiKzX"
      },
      "execution_count": 4,
      "outputs": []
    },
    {
      "cell_type": "code",
      "source": [
        "df1 = spark.read.csv(\"/content/df_1_csv.csv\",header=True,inferSchema=True)"
      ],
      "metadata": {
        "id": "IDYeI1KQiMut"
      },
      "execution_count": 5,
      "outputs": []
    },
    {
      "cell_type": "code",
      "source": [
        "df1.show(5)"
      ],
      "metadata": {
        "colab": {
          "base_uri": "https://localhost:8080/"
        },
        "id": "apX63_oviguh",
        "outputId": "46abe0ef-b8f2-4078-bb36-e48e23393749"
      },
      "execution_count": 6,
      "outputs": [
        {
          "output_type": "stream",
          "name": "stdout",
          "text": [
            "+----+-----------+----------+-------------------+---------+\n",
            "|s.no|supplier_id|product_id|total_sales_ammount|     date|\n",
            "+----+-----------+----------+-------------------+---------+\n",
            "|   1|       1001|     10101|                 50| 1/1/2022|\n",
            "|   2|       1001|     10101|                100|1/10/2022|\n",
            "|   3|       1001|     10101|                150|1/19/2022|\n",
            "|   4|       1001|     10101|                200|1/28/2022|\n",
            "|   5|       1001|     10102|                250| 2/6/2022|\n",
            "+----+-----------+----------+-------------------+---------+\n",
            "only showing top 5 rows\n",
            "\n"
          ]
        }
      ]
    },
    {
      "cell_type": "code",
      "source": [
        "df1.count()"
      ],
      "metadata": {
        "colab": {
          "base_uri": "https://localhost:8080/"
        },
        "id": "gaXgdy-7keNQ",
        "outputId": "cdb4f1f6-9fd0-429f-d7de-3394c6273679"
      },
      "execution_count": 13,
      "outputs": [
        {
          "output_type": "execute_result",
          "data": {
            "text/plain": [
              "86"
            ]
          },
          "metadata": {},
          "execution_count": 13
        }
      ]
    },
    {
      "cell_type": "code",
      "source": [
        "df2 = spark.read.csv(\"/content/df_2_csv.csv\",header=True,inferSchema=True)"
      ],
      "metadata": {
        "id": "fCe-3DodijKw"
      },
      "execution_count": 7,
      "outputs": []
    },
    {
      "cell_type": "code",
      "source": [
        "df2.show()"
      ],
      "metadata": {
        "colab": {
          "base_uri": "https://localhost:8080/"
        },
        "id": "R8MQUkovjJL6",
        "outputId": "d96dc9ae-f41d-4f00-e158-41ceabf33122"
      },
      "execution_count": 8,
      "outputs": [
        {
          "output_type": "stream",
          "name": "stdout",
          "text": [
            "+----+----------+-----+\n",
            "|s.no|product_id|price|\n",
            "+----+----------+-----+\n",
            "|   1|     10101|   50|\n",
            "|   2|     10102|  100|\n",
            "|   3|     10103|  100|\n",
            "|   4|     10104|   25|\n",
            "|   5|     10105|   50|\n",
            "+----+----------+-----+\n",
            "\n"
          ]
        }
      ]
    },
    {
      "cell_type": "code",
      "source": [
        "df3 = spark.read.csv(\"/content/df_3_csv.csv\",header=True,inferSchema=True)"
      ],
      "metadata": {
        "id": "lYZPF7l5jMhL"
      },
      "execution_count": 11,
      "outputs": []
    },
    {
      "cell_type": "code",
      "source": [
        "df3.show()"
      ],
      "metadata": {
        "colab": {
          "base_uri": "https://localhost:8080/"
        },
        "id": "rXTfMo25jSKC",
        "outputId": "595650cb-51a8-4b99-d67d-2da6ca825136"
      },
      "execution_count": 12,
      "outputs": [
        {
          "output_type": "stream",
          "name": "stdout",
          "text": [
            "+----+-----------+-------------+------+\n",
            "|s.no|supplier_id|supplier_name|region|\n",
            "+----+-----------+-------------+------+\n",
            "|   1|       1001|        test1|  asia|\n",
            "|   2|       1002|        test2|  asia|\n",
            "|   3|       1003|        test2|europe|\n",
            "+----+-----------+-------------+------+\n",
            "\n"
          ]
        }
      ]
    },
    {
      "cell_type": "code",
      "source": [
        "df4 = df1.alias(\"a\").join(df2.alias(\"b\"),col(\"a.product_id\")==col(\"b.product_id\"),\"inner\").select(col(\"a.*\"),col(\"b.price\"))"
      ],
      "metadata": {
        "id": "4q7uRXCAjbjo"
      },
      "execution_count": 14,
      "outputs": []
    },
    {
      "cell_type": "code",
      "source": [
        "df4.count()"
      ],
      "metadata": {
        "colab": {
          "base_uri": "https://localhost:8080/"
        },
        "id": "498DD46Gl0e0",
        "outputId": "f0389c2f-1d39-42bc-e93e-eb63388c976a"
      },
      "execution_count": 15,
      "outputs": [
        {
          "output_type": "execute_result",
          "data": {
            "text/plain": [
              "86"
            ]
          },
          "metadata": {},
          "execution_count": 15
        }
      ]
    },
    {
      "cell_type": "code",
      "source": [
        "df4.show(5)"
      ],
      "metadata": {
        "colab": {
          "base_uri": "https://localhost:8080/"
        },
        "id": "8s1ZMSXdl2qb",
        "outputId": "875e4422-db2c-4161-8ca4-89ad72d31268"
      },
      "execution_count": 16,
      "outputs": [
        {
          "output_type": "stream",
          "name": "stdout",
          "text": [
            "+----+-----------+----------+-------------------+---------+-----+\n",
            "|s.no|supplier_id|product_id|total_sales_ammount|     date|price|\n",
            "+----+-----------+----------+-------------------+---------+-----+\n",
            "|   1|       1001|     10101|                 50| 1/1/2022|   50|\n",
            "|   2|       1001|     10101|                100|1/10/2022|   50|\n",
            "|   3|       1001|     10101|                150|1/19/2022|   50|\n",
            "|   4|       1001|     10101|                200|1/28/2022|   50|\n",
            "|   5|       1001|     10102|                250| 2/6/2022|  100|\n",
            "+----+-----------+----------+-------------------+---------+-----+\n",
            "only showing top 5 rows\n",
            "\n"
          ]
        }
      ]
    },
    {
      "cell_type": "code",
      "source": [
        "df5=df4.alias(\"a\").join(df3.alias(\"b\"),col(\"a.supplier_id\")==col(\"b.supplier_id\"),\"inner\").select(col(\"a.*\"),col(\"b.supplier_name\"),col(\"b.region\"))"
      ],
      "metadata": {
        "id": "dhyHgV8Kl5OQ"
      },
      "execution_count": 18,
      "outputs": []
    },
    {
      "cell_type": "code",
      "source": [
        "df5.count()"
      ],
      "metadata": {
        "colab": {
          "base_uri": "https://localhost:8080/"
        },
        "id": "s8xsWlv4mdKp",
        "outputId": "218bb972-aebd-4f29-ef5a-1804f102c98d"
      },
      "execution_count": 19,
      "outputs": [
        {
          "output_type": "execute_result",
          "data": {
            "text/plain": [
              "86"
            ]
          },
          "metadata": {},
          "execution_count": 19
        }
      ]
    },
    {
      "cell_type": "code",
      "source": [
        "df5.show()"
      ],
      "metadata": {
        "colab": {
          "base_uri": "https://localhost:8080/"
        },
        "id": "cMcP__l4mmb_",
        "outputId": "8139a9e5-10bb-4997-c776-50c0b7567677"
      },
      "execution_count": 20,
      "outputs": [
        {
          "output_type": "stream",
          "name": "stdout",
          "text": [
            "+----+-----------+----------+-------------------+---------+-----+-------------+------+\n",
            "|s.no|supplier_id|product_id|total_sales_ammount|     date|price|supplier_name|region|\n",
            "+----+-----------+----------+-------------------+---------+-----+-------------+------+\n",
            "|   1|       1001|     10101|                 50| 1/1/2022|   50|        test1|  asia|\n",
            "|   2|       1001|     10101|                100|1/10/2022|   50|        test1|  asia|\n",
            "|   3|       1001|     10101|                150|1/19/2022|   50|        test1|  asia|\n",
            "|   4|       1001|     10101|                200|1/28/2022|   50|        test1|  asia|\n",
            "|   5|       1001|     10102|                250| 2/6/2022|  100|        test1|  asia|\n",
            "|   6|       1001|     10102|                300|2/15/2022|  100|        test1|  asia|\n",
            "|   7|       1001|     10102|                350|2/24/2022|  100|        test1|  asia|\n",
            "|   8|       1001|     10102|                400| 3/5/2022|  100|        test1|  asia|\n",
            "|   9|       1001|     10102|                450|3/14/2022|  100|        test1|  asia|\n",
            "|  10|       1001|     10101|                500|3/23/2022|   50|        test1|  asia|\n",
            "|  11|       1002|     10101|                550| 4/1/2022|   50|        test2|  asia|\n",
            "|  12|       1002|     10101|                600|4/10/2022|   50|        test2|  asia|\n",
            "|  13|       1002|     10101|                650|4/19/2022|   50|        test2|  asia|\n",
            "|  14|       1002|     10102|                700|4/28/2022|  100|        test2|  asia|\n",
            "|  15|       1002|     10102|                750| 5/7/2022|  100|        test2|  asia|\n",
            "|  16|       1002|     10102|                800|5/16/2022|  100|        test2|  asia|\n",
            "|  17|       1002|     10102|                850|5/25/2022|  100|        test2|  asia|\n",
            "|  18|       1002|     10102|                900| 6/3/2022|  100|        test2|  asia|\n",
            "|  19|       1002|     10103|                950|6/12/2022|  100|        test2|  asia|\n",
            "|  20|       1002|     10103|               1000|6/21/2022|  100|        test2|  asia|\n",
            "+----+-----------+----------+-------------------+---------+-----+-------------+------+\n",
            "only showing top 20 rows\n",
            "\n"
          ]
        }
      ]
    },
    {
      "cell_type": "code",
      "source": [
        "df6 = df5.withColumn(\"quantity\",col(\"total_sales_ammount\")/col(\"price\"))"
      ],
      "metadata": {
        "id": "SC5I7sCHmoHJ"
      },
      "execution_count": 25,
      "outputs": []
    },
    {
      "cell_type": "code",
      "source": [
        "df6.count()"
      ],
      "metadata": {
        "colab": {
          "base_uri": "https://localhost:8080/"
        },
        "id": "TJgWuZ46nei0",
        "outputId": "ac8bd88e-5613-4580-c40c-632f3cc55553"
      },
      "execution_count": 26,
      "outputs": [
        {
          "output_type": "execute_result",
          "data": {
            "text/plain": [
              "86"
            ]
          },
          "metadata": {},
          "execution_count": 26
        }
      ]
    },
    {
      "cell_type": "code",
      "source": [
        "df6.show(5)"
      ],
      "metadata": {
        "colab": {
          "base_uri": "https://localhost:8080/"
        },
        "id": "TKB5ERQSnj4H",
        "outputId": "d10af9c8-f5a2-47fc-8b1a-5b781f897cd9"
      },
      "execution_count": 27,
      "outputs": [
        {
          "output_type": "stream",
          "name": "stdout",
          "text": [
            "+----+-----------+----------+-------------------+---------+-----+-------------+------+--------+\n",
            "|s.no|supplier_id|product_id|total_sales_ammount|     date|price|supplier_name|region|quantity|\n",
            "+----+-----------+----------+-------------------+---------+-----+-------------+------+--------+\n",
            "|   1|       1001|     10101|                 50| 1/1/2022|   50|        test1|  asia|     1.0|\n",
            "|   2|       1001|     10101|                100|1/10/2022|   50|        test1|  asia|     2.0|\n",
            "|   3|       1001|     10101|                150|1/19/2022|   50|        test1|  asia|     3.0|\n",
            "|   4|       1001|     10101|                200|1/28/2022|   50|        test1|  asia|     4.0|\n",
            "|   5|       1001|     10102|                250| 2/6/2022|  100|        test1|  asia|     2.5|\n",
            "+----+-----------+----------+-------------------+---------+-----+-------------+------+--------+\n",
            "only showing top 5 rows\n",
            "\n"
          ]
        }
      ]
    },
    {
      "cell_type": "code",
      "source": [
        "cols = (\"s.no\",\"supplier_id\",\"price\",)"
      ],
      "metadata": {
        "id": "N_kcTmWRoS0z"
      },
      "execution_count": 29,
      "outputs": []
    },
    {
      "cell_type": "code",
      "source": [
        "df7= df6.drop(*cols)"
      ],
      "metadata": {
        "id": "YirqCS_qnl4Z"
      },
      "execution_count": 30,
      "outputs": []
    },
    {
      "cell_type": "code",
      "source": [
        "df7.show(5)"
      ],
      "metadata": {
        "colab": {
          "base_uri": "https://localhost:8080/"
        },
        "id": "MLNK2Y0Fo1aE",
        "outputId": "128fd27b-e309-4812-a02f-fa7f97198409"
      },
      "execution_count": 31,
      "outputs": [
        {
          "output_type": "stream",
          "name": "stdout",
          "text": [
            "+----------+-------------------+---------+-------------+------+--------+\n",
            "|product_id|total_sales_ammount|     date|supplier_name|region|quantity|\n",
            "+----------+-------------------+---------+-------------+------+--------+\n",
            "|     10101|                 50| 1/1/2022|        test1|  asia|     1.0|\n",
            "|     10101|                100|1/10/2022|        test1|  asia|     2.0|\n",
            "|     10101|                150|1/19/2022|        test1|  asia|     3.0|\n",
            "|     10101|                200|1/28/2022|        test1|  asia|     4.0|\n",
            "|     10102|                250| 2/6/2022|        test1|  asia|     2.5|\n",
            "+----------+-------------------+---------+-------------+------+--------+\n",
            "only showing top 5 rows\n",
            "\n"
          ]
        }
      ]
    },
    {
      "cell_type": "code",
      "source": [
        "final_df =df7.withColumnRenamed(\"total_sales_ammount\",\"total_sales\")\n"
      ],
      "metadata": {
        "id": "gjKuEyepo59K"
      },
      "execution_count": 32,
      "outputs": []
    },
    {
      "cell_type": "code",
      "source": [
        "final_df.show(5)"
      ],
      "metadata": {
        "colab": {
          "base_uri": "https://localhost:8080/"
        },
        "id": "Y_psD-6OpTti",
        "outputId": "8fc820b1-fe4e-4ddf-e3da-d842fd4343e1"
      },
      "execution_count": 33,
      "outputs": [
        {
          "output_type": "stream",
          "name": "stdout",
          "text": [
            "+----------+-----------+---------+-------------+------+--------+\n",
            "|product_id|total_sales|     date|supplier_name|region|quantity|\n",
            "+----------+-----------+---------+-------------+------+--------+\n",
            "|     10101|         50| 1/1/2022|        test1|  asia|     1.0|\n",
            "|     10101|        100|1/10/2022|        test1|  asia|     2.0|\n",
            "|     10101|        150|1/19/2022|        test1|  asia|     3.0|\n",
            "|     10101|        200|1/28/2022|        test1|  asia|     4.0|\n",
            "|     10102|        250| 2/6/2022|        test1|  asia|     2.5|\n",
            "+----------+-----------+---------+-------------+------+--------+\n",
            "only showing top 5 rows\n",
            "\n"
          ]
        }
      ]
    },
    {
      "cell_type": "code",
      "source": [
        ""
      ],
      "metadata": {
        "id": "mzq0TZoNpXJP"
      },
      "execution_count": null,
      "outputs": []
    }
  ]
}