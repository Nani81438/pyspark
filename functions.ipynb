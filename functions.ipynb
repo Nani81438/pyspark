{
  "nbformat": 4,
  "nbformat_minor": 0,
  "metadata": {
    "colab": {
      "name": "functions.ipynb",
      "provenance": [],
      "collapsed_sections": [],
      "authorship_tag": "ABX9TyOvomYAfbFpk5D6vwsUb01Z",
      "include_colab_link": true
    },
    "kernelspec": {
      "name": "python3",
      "display_name": "Python 3"
    },
    "language_info": {
      "name": "python"
    }
  },
  "cells": [
    {
      "cell_type": "markdown",
      "metadata": {
        "id": "view-in-github",
        "colab_type": "text"
      },
      "source": [
        "<a href=\"https://colab.research.google.com/github/Nani81438/Vn2T03/blob/main/functions.ipynb\" target=\"_parent\"><img src=\"https://colab.research.google.com/assets/colab-badge.svg\" alt=\"Open In Colab\"/></a>"
      ]
    },
    {
      "cell_type": "code",
      "execution_count": null,
      "metadata": {
        "colab": {
          "base_uri": "https://localhost:8080/"
        },
        "id": "0FK3G_vVzITl",
        "outputId": "f3a450ad-9a1a-4334-d3b5-99c0ec692eec"
      },
      "outputs": [
        {
          "output_type": "stream",
          "name": "stdout",
          "text": [
            "hello nani\n"
          ]
        }
      ],
      "source": [
        "def name_of_the_function(name):\n",
        "  print (f\"hello {name}\")\n",
        "name_of_the_function(\"nani\")"
      ]
    },
    {
      "cell_type": "code",
      "source": [
        "def add_function(num1,num2):\n",
        "  return num1+num2\n",
        "add_function(2,3)\n"
      ],
      "metadata": {
        "colab": {
          "base_uri": "https://localhost:8080/"
        },
        "id": "7IisOnxAzVlI",
        "outputId": "1a4180de-9831-4636-9a0c-df0f229c1c60"
      },
      "execution_count": null,
      "outputs": [
        {
          "output_type": "execute_result",
          "data": {
            "text/plain": [
              "5"
            ]
          },
          "metadata": {},
          "execution_count": 14
        }
      ]
    },
    {
      "cell_type": "code",
      "source": [
        "n = int (input (\"enter a number: \"))\n",
        "def even_numbers(n):\n",
        "  if n%2 ==0:\n",
        "    print ('even')\n",
        "  else:\n",
        "    print (\"odd\")\n",
        "even_numbers(n)\n"
      ],
      "metadata": {
        "colab": {
          "base_uri": "https://localhost:8080/"
        },
        "id": "pElEA2_H0_zZ",
        "outputId": "e67a59d2-713d-41b1-e9ae-e55866bc8d54"
      },
      "execution_count": null,
      "outputs": [
        {
          "output_type": "stream",
          "name": "stdout",
          "text": [
            "enter a number: 5\n",
            "odd\n"
          ]
        }
      ]
    },
    {
      "cell_type": "code",
      "source": [
        "# palindrome\n",
        "str1 = input(\"enter a name: \")\n",
        "def palindrome(str1):\n",
        "  if str1 == str1[::-1]:\n",
        "    print (\" this is a palindrome \")\n",
        "  else:\n",
        "    print (\" this is not a palindrome\")\n",
        "palindrome(str1)\n"
      ],
      "metadata": {
        "colab": {
          "base_uri": "https://localhost:8080/"
        },
        "id": "2JsJ2tPV5Teg",
        "outputId": "e1bd1610-60e1-44e2-cca1-cf4e55455930"
      },
      "execution_count": null,
      "outputs": [
        {
          "output_type": "stream",
          "name": "stdout",
          "text": [
            "enter a name: madam\n",
            " is a palindrome \n"
          ]
        }
      ]
    },
    {
      "cell_type": "code",
      "source": [
        "def myfunc(a,b):\n",
        "  return a+b\n",
        "myfunc(10,20)"
      ],
      "metadata": {
        "colab": {
          "base_uri": "https://localhost:8080/"
        },
        "id": "9Zar4VUd6Iky",
        "outputId": "1c04cdb7-73ed-4842-8063-2a3942059b15"
      },
      "execution_count": null,
      "outputs": [
        {
          "output_type": "execute_result",
          "data": {
            "text/plain": [
              "30"
            ]
          },
          "metadata": {},
          "execution_count": 28
        }
      ]
    },
    {
      "cell_type": "code",
      "source": [
        "result = myfunc(10,20)\n",
        "print (result)"
      ],
      "metadata": {
        "colab": {
          "base_uri": "https://localhost:8080/"
        },
        "id": "Mc82IlpG-lFO",
        "outputId": "e501ccde-3f95-4544-ea15-a1db96136048"
      },
      "execution_count": null,
      "outputs": [
        {
          "output_type": "stream",
          "name": "stdout",
          "text": [
            "30\n"
          ]
        }
      ]
    },
    {
      "cell_type": "code",
      "source": [
        "def add(x,y):\n",
        "  c= x+y\n",
        "  print (c)\n",
        "add (5,6)\n"
      ],
      "metadata": {
        "id": "uje4gttx-xL2",
        "colab": {
          "base_uri": "https://localhost:8080/"
        },
        "outputId": "c35c35d8-1e67-489d-9ba6-2afa630d87f1"
      },
      "execution_count": null,
      "outputs": [
        {
          "output_type": "stream",
          "name": "stdout",
          "text": [
            "11\n"
          ]
        }
      ]
    },
    {
      "cell_type": "code",
      "source": [
        "def add_sub(a,b):\n",
        "  c = a+b\n",
        "  d = a-b\n",
        "  return c,d \n",
        "(add_sub(10,5))\n"
      ],
      "metadata": {
        "id": "FVgwFFZdAeyb",
        "colab": {
          "base_uri": "https://localhost:8080/"
        },
        "outputId": "f189e3a7-bbde-4c65-a547-0f2f652b0e38"
      },
      "execution_count": null,
      "outputs": [
        {
          "output_type": "execute_result",
          "data": {
            "text/plain": [
              "(15, 5)"
            ]
          },
          "metadata": {},
          "execution_count": 5
        }
      ]
    },
    {
      "cell_type": "code",
      "source": [
        "def hello_f():\n",
        " return \"hellocollege\"\n",
        "print(hello_f().upper())\n"
      ],
      "metadata": {
        "colab": {
          "base_uri": "https://localhost:8080/"
        },
        "id": "_UdwcKlDUY8H",
        "outputId": "2931ac4e-d86a-40d0-bb3c-ddfa2d2ca67c"
      },
      "execution_count": null,
      "outputs": [
        {
          "output_type": "stream",
          "name": "stdout",
          "text": [
            "HELLOCOLLEGE\n"
          ]
        }
      ]
    },
    {
      "cell_type": "code",
      "source": [
        "print(\"------------CAT 1  --- w P -- w R-------------------\")\n",
        "# 1st -> T T :: Function with parameters, with return type\n",
        "num1 = 10\n",
        "num2 = 20\n",
        "\n",
        "def sum(n1, n2):\n",
        "    res = n1 + n2\n",
        "    return res\n",
        "\n",
        "print(\"Addition is : \", sum(num1, num2))  # print(10) # args --num1, num2\n",
        "\n"
      ],
      "metadata": {
        "colab": {
          "base_uri": "https://localhost:8080/"
        },
        "id": "gf9ww6WkU3u5",
        "outputId": "9c186497-1b73-417d-f029-e94f85cb8fa2"
      },
      "execution_count": null,
      "outputs": [
        {
          "output_type": "stream",
          "name": "stdout",
          "text": [
            "------------CAT 1  --- w P -- w R-------------------\n",
            "Addition is :  30\n"
          ]
        }
      ]
    },
    {
      "cell_type": "code",
      "source": [
        "# 2nd -> T F :: Function with parameters, without return type\n",
        "\n",
        "num1 = 10\n",
        "num2 = 20\n",
        "\n",
        "def sum(n1, n2):\n",
        "    res = n1 + n2\n",
        "    print(\"Addition is : \", res)\n",
        "\n",
        "sum(num1, num2)\n",
        "print(\"Second cat : \", sum(100,101))"
      ],
      "metadata": {
        "colab": {
          "base_uri": "https://localhost:8080/"
        },
        "id": "Dean4Ko34eKv",
        "outputId": "964f77f5-e5cf-4707-ae38-782a4c0009a2"
      },
      "execution_count": null,
      "outputs": [
        {
          "output_type": "stream",
          "name": "stdout",
          "text": [
            "Addition is :  30\n",
            "Addition is :  201\n",
            "Second cat :  None\n"
          ]
        }
      ]
    },
    {
      "cell_type": "code",
      "source": [
        "# 3rd --> F T :: Function without parameters, with return type\n",
        "\n",
        "def sum():\n",
        "    n1 = 10\n",
        "    n2 = 20\n",
        "    res = n1 + n2\n",
        "    return res\n",
        "\n",
        "output = sum()\n",
        "print(\"Addition is : \", output)"
      ],
      "metadata": {
        "colab": {
          "base_uri": "https://localhost:8080/"
        },
        "id": "Ql-wFGv34t_P",
        "outputId": "ff95e04e-e4f0-4794-cbda-c68d0a272ca0"
      },
      "execution_count": null,
      "outputs": [
        {
          "output_type": "stream",
          "name": "stdout",
          "text": [
            "Addition is :  30\n"
          ]
        }
      ]
    },
    {
      "cell_type": "code",
      "source": [
        "# 4th  --> F F  :: Function without parameters, without return type\n",
        "\n",
        "def sum():\n",
        "    n1 = 10\n",
        "    n2 = 20\n",
        "    res = n1 + n2\n",
        "    print(\"Addition is : \", res)\n",
        "\n",
        "sum()\n",
        "print(\"Cat 4 : \", sum())\n",
        "\n",
        "\n"
      ],
      "metadata": {
        "colab": {
          "base_uri": "https://localhost:8080/"
        },
        "id": "sK_oJ8Mj4_e2",
        "outputId": "692a0197-f573-4792-8ca3-45a8ef622642"
      },
      "execution_count": null,
      "outputs": [
        {
          "output_type": "stream",
          "name": "stdout",
          "text": [
            "Addition is :  30\n",
            "Addition is :  30\n",
            "Cat 4 :  None\n"
          ]
        }
      ]
    },
    {
      "cell_type": "code",
      "source": [
        "def even_check(num):\n",
        "  result = num%2 == 0\n",
        "  return result\n",
        "even_check(20)"
      ],
      "metadata": {
        "colab": {
          "base_uri": "https://localhost:8080/"
        },
        "id": "fDNAxuGU5Nee",
        "outputId": "e5efe152-6224-4197-e6da-8b28ab03e3cd"
      },
      "execution_count": null,
      "outputs": [
        {
          "output_type": "execute_result",
          "data": {
            "text/plain": [
              "True"
            ]
          },
          "metadata": {},
          "execution_count": 7
        }
      ]
    },
    {
      "cell_type": "code",
      "source": [
        "even_check(5)"
      ],
      "metadata": {
        "colab": {
          "base_uri": "https://localhost:8080/"
        },
        "id": "LOMAxqxc9xJ5",
        "outputId": "ea280389-4b10-4803-a7b0-f4e8889243de"
      },
      "execution_count": null,
      "outputs": [
        {
          "output_type": "execute_result",
          "data": {
            "text/plain": [
              "False"
            ]
          },
          "metadata": {},
          "execution_count": 8
        }
      ]
    },
    {
      "cell_type": "code",
      "source": [
        "def even_check(num):\n",
        "  return num%2 == 0\n",
        "even_check(20)"
      ],
      "metadata": {
        "colab": {
          "base_uri": "https://localhost:8080/"
        },
        "id": "ioxw7KqY9_gz",
        "outputId": "ce23b26e-4ffe-414d-848d-61f58e6705de"
      },
      "execution_count": null,
      "outputs": [
        {
          "output_type": "execute_result",
          "data": {
            "text/plain": [
              "True"
            ]
          },
          "metadata": {},
          "execution_count": 9
        }
      ]
    },
    {
      "cell_type": "code",
      "source": [
        "# prints true if any num in list is even\n",
        "def check_even_list (num_lst):\n",
        "  for number in num_lst:\n",
        "    if number%2 ==0:\n",
        "      return True\n",
        "    else:\n",
        "      pass\n",
        "  return False"
      ],
      "metadata": {
        "id": "zfZMGwSi-O-J"
      },
      "execution_count": null,
      "outputs": []
    },
    {
      "cell_type": "code",
      "source": [
        "check_even_list ([2,3,4])"
      ],
      "metadata": {
        "colab": {
          "base_uri": "https://localhost:8080/"
        },
        "id": "OGv6kMjc_ce7",
        "outputId": "c70dad47-81de-44e1-8bf2-21b8b8889a63"
      },
      "execution_count": null,
      "outputs": [
        {
          "output_type": "execute_result",
          "data": {
            "text/plain": [
              "True"
            ]
          },
          "metadata": {},
          "execution_count": 2
        }
      ]
    },
    {
      "cell_type": "code",
      "source": [
        "# prints even numbers in the list\n",
        "def check_even_list (num_lst):\n",
        "  even_numbers = []\n",
        "  for number in num_lst:\n",
        "    if number %2 == 0:\n",
        "      even_numbers.append(number)\n",
        "    else :\n",
        "      pass\n",
        "  return even_numbers\n"
      ],
      "metadata": {
        "id": "FCEM2WZolKB3"
      },
      "execution_count": null,
      "outputs": []
    },
    {
      "cell_type": "code",
      "source": [
        "check_even_list ([1,2,3,45,6])"
      ],
      "metadata": {
        "colab": {
          "base_uri": "https://localhost:8080/"
        },
        "id": "xMKHuuZPl34k",
        "outputId": "7bf89436-e87e-4de2-d1cd-919e8ef8f373"
      },
      "execution_count": null,
      "outputs": [
        {
          "output_type": "execute_result",
          "data": {
            "text/plain": [
              "[2, 6]"
            ]
          },
          "metadata": {},
          "execution_count": 11
        }
      ]
    },
    {
      "cell_type": "code",
      "source": [
        "check_even_list ([1,3,7])"
      ],
      "metadata": {
        "colab": {
          "base_uri": "https://localhost:8080/"
        },
        "id": "SPC2Pjecmq2U",
        "outputId": "bd4aff08-d532-4d7e-8e7f-6e8bcc968642"
      },
      "execution_count": null,
      "outputs": [
        {
          "output_type": "execute_result",
          "data": {
            "text/plain": [
              "[]"
            ]
          },
          "metadata": {},
          "execution_count": 13
        }
      ]
    },
    {
      "cell_type": "code",
      "source": [
        "# employee of the month\n",
        "work_hours = [('abhi',4000),(\"balu\",7000),(\"cassie\",7500)]\n",
        "def employee_of_the_month() :\n",
        "  current_max = 0\n",
        "  employee_of_the_month = \" \"\n",
        "  for employee,hours in work_hours:\n",
        "    if hours>current_max:\n",
        "      current_max = hours\n",
        "      employee_of_the_month = employee\n",
        "    else:\n",
        "      pass\n",
        "  return (employee_of_the_month,hours)\n",
        "\n",
        "  \n",
        "employee_of_the_month()"
      ],
      "metadata": {
        "id": "ALkaQtem_w72",
        "colab": {
          "base_uri": "https://localhost:8080/"
        },
        "outputId": "b433c576-b72a-4363-a3bb-9d92c68f9f62"
      },
      "execution_count": null,
      "outputs": [
        {
          "output_type": "execute_result",
          "data": {
            "text/plain": [
              "('cassie', 7500)"
            ]
          },
          "metadata": {},
          "execution_count": 15
        }
      ]
    },
    {
      "cell_type": "code",
      "source": [
        "def pattern_print(n) :\n",
        "  number = 1\n",
        "  for i in range (0,n):\n",
        "    number = 0\n",
        "    for j in range (0,i+1):\n",
        "      print (number ,end = \" \")\n",
        "      number = number +1\n",
        "    print (\"\\r\")\n",
        "pattern_print(6)"
      ],
      "metadata": {
        "id": "IC3tuzuBA3G0",
        "colab": {
          "base_uri": "https://localhost:8080/"
        },
        "outputId": "04a0ec94-6443-42d4-c89c-59a98f65c03b"
      },
      "execution_count": null,
      "outputs": [
        {
          "output_type": "stream",
          "name": "stdout",
          "text": [
            "0 \r\n",
            "0 1 \r\n",
            "0 1 2 \r\n",
            "0 1 2 3 \r\n",
            "0 1 2 3 4 \r\n",
            "0 1 2 3 4 5 \r\n"
          ]
        }
      ]
    },
    {
      "cell_type": "code",
      "source": [
        "def pattern_print(n) :\n",
        "  for i in range (0,n):\n",
        "    for j in range (0,i+1):\n",
        "      print (\"#\", end = \" \")\n",
        "    print (\"\\r\")\n",
        "\n",
        "pattern_print(6)"
      ],
      "metadata": {
        "colab": {
          "base_uri": "https://localhost:8080/"
        },
        "id": "3JmXWWsz4csO",
        "outputId": "21a4113e-a9a7-4114-a2c4-a234f309d8c4"
      },
      "execution_count": null,
      "outputs": [
        {
          "output_type": "stream",
          "name": "stdout",
          "text": [
            "# \r\n",
            "# # \r\n",
            "# # # \r\n",
            "# # # # \r\n",
            "# # # # # \r\n",
            "# # # # # # \r\n"
          ]
        }
      ]
    },
    {
      "cell_type": "markdown",
      "source": [
        "our simple game wont actually show the cups or ball, instead we simply mimic the effect with a python list\n",
        "\n",
        "our simple version will also not show the shuffle to user so,the guess is completely random"
      ],
      "metadata": {
        "id": "-O6ID82I4sEI"
      }
    },
    {
      "cell_type": "code",
      "source": [
        "example = [1,2,3,4,5,6,7]\n",
        "from random import shuffle\n",
        "shuffle (example)\n",
        "\n",
        "def shuffle_lst (my_lst):\n",
        "  shuffle (my_lst)\n",
        "  return my_lst\n",
        "result = shuffle_lst(example)\n",
        "result\n"
      ],
      "metadata": {
        "colab": {
          "base_uri": "https://localhost:8080/"
        },
        "id": "QVaOzfwg4iAu",
        "outputId": "c2c09d08-0068-47bc-e094-4b4e43bcacb7"
      },
      "execution_count": null,
      "outputs": [
        {
          "output_type": "execute_result",
          "data": {
            "text/plain": [
              "[7, 3, 5, 1, 6, 4, 2]"
            ]
          },
          "metadata": {},
          "execution_count": 8
        }
      ]
    },
    {
      "cell_type": "code",
      "source": [
        "def pattern_print(n) :\n",
        "  for i in range (0,n):\n",
        "    for j in range (0,i+1):\n",
        "      print (\"#\", end = \" \")\n",
        "    print (\"\\r\")\n",
        "\n",
        "pattern_print(6)"
      ],
      "metadata": {
        "colab": {
          "base_uri": "https://localhost:8080/"
        },
        "id": "6h6XS1yB5hQB",
        "outputId": "c5baad2a-2b8c-4326-b7ae-0ffe04aa04e8"
      },
      "execution_count": null,
      "outputs": [
        {
          "output_type": "stream",
          "name": "stdout",
          "text": [
            "# \r\n",
            "# # \r\n",
            "# # # \r\n",
            "# # # # \r\n",
            "# # # # # \r\n",
            "# # # # # # \r\n"
          ]
        }
      ]
    },
    {
      "cell_type": "code",
      "source": [
        "# function for finding a LCM\n",
        "def lcm(x,y):\n",
        "  # selecting the greater number\n",
        "  if x>y:\n",
        "    greater = x\n",
        "  else:\n",
        "    greater = y\n",
        "  while (True):\n",
        "    if ((greater%x==0) and (greater%y == 0)):\n",
        "      lcm = greater\n",
        "      break \n",
        "    greater+=1\n",
        "  return lcm\n",
        "num1 = int (input (\"enter the first number: \"))\n",
        "num2 = int (input (\"enter the second number: \"))\n",
        "print (\"the lcm of the given numbers is :\",lcm(num1,num2))\n"
      ],
      "metadata": {
        "colab": {
          "base_uri": "https://localhost:8080/"
        },
        "id": "u5xjUGSk7hql",
        "outputId": "ab6e3c37-267f-48be-ab8e-9561b440fe1f"
      },
      "execution_count": null,
      "outputs": [
        {
          "output_type": "stream",
          "name": "stdout",
          "text": [
            "enter the first number: 5\n",
            "enter the second number: 6\n",
            "the lcm of the given numbers is : 30\n"
          ]
        }
      ]
    },
    {
      "cell_type": "code",
      "source": [
        "# defining a function to calculate HCF  \n",
        "def calculate_hcf(x, y):  \n",
        "    # selecting the smaller number  \n",
        "    if x > y:  \n",
        "        smaller = y  \n",
        "    else:  \n",
        "        smaller = x  \n",
        "    for i in range(1,smaller + 1):  \n",
        "        if((x % i == 0) and (y % i == 0)):  \n",
        "            hcf = i  \n",
        "    return hcf  \n",
        "  \n",
        "# taking input from users  \n",
        "num1 = int(input(\"Enter first number: \"))  \n",
        "num2 = int(input(\"Enter second number: \"))  \n",
        "# printing the result for the users  \n",
        "print(\"The H.C.F. of\", num1,\"and\", num2,\"is\", calculate_hcf(num1, num2))\n",
        "\n",
        "    \n",
        "  \n",
        "\n"
      ],
      "metadata": {
        "colab": {
          "base_uri": "https://localhost:8080/"
        },
        "id": "mJlBC02c8wI-",
        "outputId": "bb378c87-2e0e-42f0-b92a-28e7cba53c35"
      },
      "execution_count": null,
      "outputs": [
        {
          "output_type": "stream",
          "name": "stdout",
          "text": [
            "Enter first number: 5\n",
            "Enter second number: 6\n",
            "The H.C.F. of 5 and 6 is 1\n"
          ]
        }
      ]
    },
    {
      "cell_type": "code",
      "source": [
        "#anonymous functions\n",
        "'''1. lambda\n",
        "2. filter\n",
        "3.reduce\n",
        "4.map'''\n",
        "\n",
        "# LAMBDA\n",
        "f = lambda a: a*a\n",
        "result = f(5)\n",
        "print (result)"
      ],
      "metadata": {
        "id": "8I2ztBWkDYq8",
        "colab": {
          "base_uri": "https://localhost:8080/"
        },
        "outputId": "ffb4fca0-4f4f-41c4-c286-968a50e3ac85"
      },
      "execution_count": null,
      "outputs": [
        {
          "output_type": "stream",
          "name": "stdout",
          "text": [
            "25\n"
          ]
        }
      ]
    },
    {
      "cell_type": "code",
      "source": [
        "# filter\n",
        "lst = [1,2,4,5,87,98]\n",
        "evens = list(filter(lambda n : n%2==0,lst))\n",
        "print(evens)"
      ],
      "metadata": {
        "colab": {
          "base_uri": "https://localhost:8080/"
        },
        "id": "-QnMVOIEz7zr",
        "outputId": "e5787276-fe06-4260-d656-315c2dd22e51"
      },
      "execution_count": null,
      "outputs": [
        {
          "output_type": "stream",
          "name": "stdout",
          "text": [
            "[2, 4, 98]\n"
          ]
        }
      ]
    },
    {
      "cell_type": "code",
      "source": [
        "#map\n",
        "doubles = list(map(lambda n : n*2 , evens))\n",
        "print (doubles)"
      ],
      "metadata": {
        "colab": {
          "base_uri": "https://localhost:8080/"
        },
        "id": "7AMC7WMl1j4m",
        "outputId": "953fe3d0-3791-49f2-81b3-05d41bd11b08"
      },
      "execution_count": null,
      "outputs": [
        {
          "output_type": "stream",
          "name": "stdout",
          "text": [
            "[4, 8, 196]\n"
          ]
        }
      ]
    },
    {
      "cell_type": "code",
      "source": [
        "#reduce\n",
        "from functools import reduce\n",
        "sum = reduce (lambda a,b: a+b,lst)\n",
        "print (sum)"
      ],
      "metadata": {
        "colab": {
          "base_uri": "https://localhost:8080/"
        },
        "id": "vfuz2iYy3ooO",
        "outputId": "0c9007f2-81ca-4168-d850-e7a2c1ebb50d"
      },
      "execution_count": null,
      "outputs": [
        {
          "output_type": "stream",
          "name": "stdout",
          "text": [
            "197\n"
          ]
        }
      ]
    },
    {
      "cell_type": "code",
      "source": [
        "tt = input(\"enter a string:\")\n",
        "def  title():\n",
        "  if tt.istitle():\n",
        "    print (\"its a title: \")\n",
        "  else:\n",
        "    print (\" it is not a title\")\n",
        "title()"
      ],
      "metadata": {
        "id": "lcS04u9655S9",
        "colab": {
          "base_uri": "https://localhost:8080/"
        },
        "outputId": "4d0c7f83-d039-4e98-c86c-ef351fe14ce2"
      },
      "execution_count": null,
      "outputs": [
        {
          "output_type": "stream",
          "name": "stdout",
          "text": [
            "enter a string:hiii\n",
            " it is not a title\n"
          ]
        }
      ]
    },
    {
      "cell_type": "code",
      "source": [
        "# checking a prime number\n",
        "def isprime(num):\n",
        "  num = int (input (\"enter any number : \"))\n",
        "  f = 0\n",
        "  for i in range (2,int (num/2)+1):\n",
        "    if num%i==0:\n",
        "      f=1\n",
        "      break\n",
        "if f ==0:\n",
        "  print (num,\" it is a prime \")\n",
        "else:\n",
        "  print (num,\" it is not a prime \")\n",
        "isprime()\n",
        "    \n",
        "          \n",
        "    \n"
      ],
      "metadata": {
        "colab": {
          "base_uri": "https://localhost:8080/",
          "height": 252
        },
        "id": "cCj1ig9pUsIi",
        "outputId": "2a06f989-ced9-497a-dc83-e67f0bbc2991"
      },
      "execution_count": null,
      "outputs": [
        {
          "output_type": "stream",
          "name": "stdout",
          "text": [
            "8  it is not a prime \n"
          ]
        },
        {
          "output_type": "error",
          "ename": "TypeError",
          "evalue": "ignored",
          "traceback": [
            "\u001b[0;31m---------------------------------------------------------------------------\u001b[0m",
            "\u001b[0;31mTypeError\u001b[0m                                 Traceback (most recent call last)",
            "\u001b[0;32m<ipython-input-32-44448c749ac4>\u001b[0m in \u001b[0;36m<module>\u001b[0;34m()\u001b[0m\n\u001b[1;32m     11\u001b[0m \u001b[0;32melse\u001b[0m\u001b[0;34m:\u001b[0m\u001b[0;34m\u001b[0m\u001b[0;34m\u001b[0m\u001b[0m\n\u001b[1;32m     12\u001b[0m   \u001b[0mprint\u001b[0m \u001b[0;34m(\u001b[0m\u001b[0mnum\u001b[0m\u001b[0;34m,\u001b[0m\u001b[0;34m\" it is not a prime \"\u001b[0m\u001b[0;34m)\u001b[0m\u001b[0;34m\u001b[0m\u001b[0;34m\u001b[0m\u001b[0m\n\u001b[0;32m---> 13\u001b[0;31m \u001b[0misprime\u001b[0m\u001b[0;34m(\u001b[0m\u001b[0;34m)\u001b[0m\u001b[0;34m\u001b[0m\u001b[0;34m\u001b[0m\u001b[0m\n\u001b[0m\u001b[1;32m     14\u001b[0m \u001b[0;34m\u001b[0m\u001b[0m\n\u001b[1;32m     15\u001b[0m \u001b[0;34m\u001b[0m\u001b[0m\n",
            "\u001b[0;31mTypeError\u001b[0m: isprime() missing 1 required positional argument: 'num'"
          ]
        }
      ]
    },
    {
      "cell_type": "code",
      "source": [
        "# task for 10/5/22\n",
        "#1.table\n",
        "def table (n):\n",
        "  lst = [1,2,3,4,5,6,7,8,9,10]\n",
        "  for i in lst:\n",
        "    print (n*i)\n",
        "table(5)\n",
        "\n"
      ],
      "metadata": {
        "id": "8SEpAX4BW8NP",
        "colab": {
          "base_uri": "https://localhost:8080/"
        },
        "outputId": "e69949ba-6db5-4806-b863-cc9c2974cfa9"
      },
      "execution_count": null,
      "outputs": [
        {
          "output_type": "stream",
          "name": "stdout",
          "text": [
            "5\n",
            "10\n",
            "15\n",
            "20\n",
            "25\n",
            "30\n",
            "35\n",
            "40\n",
            "45\n",
            "50\n"
          ]
        }
      ]
    },
    {
      "cell_type": "code",
      "source": [
        "# sum of all the numbers in list,tuple,set\n",
        "#list\n",
        "def list_sum(list):\n",
        "  sum = 0\n",
        "  for i in list:\n",
        "    sum = sum+i\n",
        "  return sum\n",
        "print (\"sum of elements in list: \",list_sum([1,2,3,4,5,6,7,8,9,10]))\n",
        "\n",
        "#tuple\n",
        "def tup_sum(tuple):\n",
        "  sum = 0\n",
        "  for i in tuple:\n",
        "    sum = sum+i\n",
        "  return sum\n",
        "print (\"sum of elements in tuple: \",tup_sum((1,2,3,4,5,6,7,8,9,12)))\n",
        "\n",
        "def set_sum(set):\n",
        "  sum = 0\n",
        "  for i in set:\n",
        "    sum = sum+i\n",
        "  return sum\n",
        "print (\"sum of elements in set: \",set_sum({1,2,3,4,5,6,7,8,9,13}))\n",
        "\n"
      ],
      "metadata": {
        "colab": {
          "base_uri": "https://localhost:8080/"
        },
        "id": "NjmPuKBEd-y0",
        "outputId": "08d741c4-d055-4e4d-940e-a9c26ee4801a"
      },
      "execution_count": null,
      "outputs": [
        {
          "output_type": "stream",
          "name": "stdout",
          "text": [
            "sum of elements in list:  55\n",
            "sum of elements in tuple:  57\n",
            "sum of elements in set:  58\n"
          ]
        }
      ]
    },
    {
      "cell_type": "code",
      "source": [
        "#multiply of all the numbers in list,tuple,set\n",
        "#list\n",
        "def lst_mul(list):\n",
        "  mul = 1\n",
        "  for i in list:\n",
        "    mul = mul*i\n",
        "  return mul\n",
        "print (\"multiplication of all elements in list: \",lst_mul([1,2,3,4,5,6,7,8,9,12]))"
      ],
      "metadata": {
        "colab": {
          "base_uri": "https://localhost:8080/"
        },
        "id": "r8xMsOy0ekSS",
        "outputId": "c578d253-f98d-4d8f-9f02-7fa9641ca220"
      },
      "execution_count": null,
      "outputs": [
        {
          "output_type": "stream",
          "name": "stdout",
          "text": [
            "mul of all elements in list:  4354560\n"
          ]
        }
      ]
    },
    {
      "cell_type": "code",
      "source": [
        "#tuple\n",
        "def tuple_mul(tuple):\n",
        "  mul = 1\n",
        "  for i in tuple:\n",
        "    mul = mul*i\n",
        "  return mul\n",
        "print (\"multiplication of all elements in tuple: \",tuple_mul((1,2,3,4,5,6,7,8,9,15)))"
      ],
      "metadata": {
        "colab": {
          "base_uri": "https://localhost:8080/"
        },
        "id": "qNBN31MOhd4-",
        "outputId": "512cf18c-44b8-4727-baea-bd0f0b16ebca"
      },
      "execution_count": null,
      "outputs": [
        {
          "output_type": "stream",
          "name": "stdout",
          "text": [
            "multiplication of all elements in tuple:  5443200\n"
          ]
        }
      ]
    },
    {
      "cell_type": "code",
      "source": [
        "#set\n",
        "def set_mul(set):\n",
        "  mul = 1\n",
        "  for i in set:\n",
        "    mul = mul*i\n",
        "  return mul\n",
        "print (\"mul of all elements in set: \",set_mul([1,2,3,4,5,6,7,8,9,10]))"
      ],
      "metadata": {
        "colab": {
          "base_uri": "https://localhost:8080/"
        },
        "id": "g7PCWbTWiQ62",
        "outputId": "c5eeafbe-6f01-4a4a-93cd-933a3f2903e2"
      },
      "execution_count": null,
      "outputs": [
        {
          "output_type": "stream",
          "name": "stdout",
          "text": [
            "mul of all elements in list:  3628800\n"
          ]
        }
      ]
    },
    {
      "cell_type": "code",
      "source": [
        "#4.accept the string and calculate no.of upper and lower case letters\n",
        "s= input(\"enter a string:\")\n",
        "def string_test(s):\n",
        "    upper = 0\n",
        "    lower = 0\n",
        "    for c in s:\n",
        "        if c.isupper():\n",
        "           #upper+=1\n",
        "           upper = upper+1\n",
        "        elif c.islower():\n",
        "           #lower+=1\n",
        "           lower = lower+1\n",
        "        else:\n",
        "           pass\n",
        "    print (\"Original String : \", s)\n",
        "    print (\"No. of Upper case characters : \", upper)\n",
        "    print (\"No. of Lower case Characters : \", lower)\n",
        "\n",
        "string_test(s)\n",
        "\n",
        "\n",
        "\n"
      ],
      "metadata": {
        "colab": {
          "base_uri": "https://localhost:8080/"
        },
        "id": "Ez0BfbFkirkV",
        "outputId": "25e95927-8886-4ac5-f459-3f5d2cafda2a"
      },
      "execution_count": null,
      "outputs": [
        {
          "output_type": "stream",
          "name": "stdout",
          "text": [
            "enter a string:hnsbkhHHBKSJC\n",
            "Original String :  hnsbkhHHBKSJC\n",
            "No. of Upper case characters :  7\n",
            "No. of Lower case Characters :  6\n"
          ]
        }
      ]
    },
    {
      "cell_type": "code",
      "source": [
        "# take a new list and return a new list with unique elements of first list\n",
        "def unique(list1):\n",
        "    unique_list = []\n",
        "    for x in list1:\n",
        "        if x not in unique_list:\n",
        "            unique_list.append(x)\n",
        "    for x in unique_list:\n",
        "        print (x)\n",
        "list1 = [10, 20, 10, 30, 40, 40]\n",
        "print(\"the unique values from 1st list is\")\n",
        "unique(list1)\n",
        " \n",
        " \n",
        "list2 =[1, 2, 1, 1, 3, 4, 3, 3, 5]\n",
        "print(\"\\nthe unique values from 2nd list is\")\n",
        "unique(list2)\n",
        "\n",
        "\n",
        "\n"
      ],
      "metadata": {
        "colab": {
          "base_uri": "https://localhost:8080/"
        },
        "id": "W04n5c-6lFY3",
        "outputId": "f1e276a5-76d4-48f6-fb1a-588f68070e26"
      },
      "execution_count": null,
      "outputs": [
        {
          "output_type": "stream",
          "name": "stdout",
          "text": [
            "the unique values from 1st list is\n",
            "10\n",
            "20\n",
            "30\n",
            "40\n",
            "\n",
            "the unique values from 2nd list is\n",
            "1\n",
            "2\n",
            "3\n",
            "4\n",
            "5\n"
          ]
        }
      ]
    },
    {
      "cell_type": "code",
      "source": [
        "# pascal triangle\n",
        "\n",
        "n = int (input(\"enter the no.of rows:\"))\n",
        "list1 = [] # take the empty list\n",
        "for i in range (n):\n",
        "  temp_lst= []\n",
        "  for j in range(i+1):\n",
        "    if j==0 or j ==i:\n",
        "      temp_lst.append(1)\n",
        "    else:\n",
        "       temp_lst.append(list1[i-1][j-1]+list1[i-1][j])\n",
        "  list1.append(temp_lst)\n",
        "print(list1)\n",
        "for i in range (n):\n",
        "  for j in range (n-i-1):\n",
        "    print (format(\" \",\"<2\"),end= \"\")\n",
        "  for j in range (i+1):\n",
        "    print(format(list1[i][j],\"<4\"),end = \"\")\n",
        "  print ()\n",
        "\n",
        "\n"
      ],
      "metadata": {
        "colab": {
          "base_uri": "https://localhost:8080/"
        },
        "id": "JQBibGJTtGIU",
        "outputId": "efbfec1c-8ce6-4be2-e5fe-8daeceab2bac"
      },
      "execution_count": null,
      "outputs": [
        {
          "output_type": "stream",
          "name": "stdout",
          "text": [
            "enter the no.of rows:8\n",
            "[[1], [1, 1], [1, 2, 1], [1, 3, 3, 1], [1, 4, 6, 4, 1], [1, 5, 10, 10, 5, 1], [1, 6, 15, 20, 15, 6, 1], [1, 7, 21, 35, 35, 21, 7, 1]]\n",
            "              1   \n",
            "            1   1   \n",
            "          1   2   1   \n",
            "        1   3   3   1   \n",
            "      1   4   6   4   1   \n",
            "    1   5   10  10  5   1   \n",
            "  1   6   15  20  15  6   1   \n",
            "1   7   21  35  35  21  7   1   \n"
          ]
        }
      ]
    },
    {
      "cell_type": "code",
      "source": [
        "#palindrome\n",
        "\n",
        "def palindrome(str1):\n",
        "  if str1 == str1[::-1]:\n",
        "    print (\"palindrome\")\n",
        "  else:\n",
        "    print(\"not a palindrome\")\n",
        "palindrome(\"madam\")\n"
      ],
      "metadata": {
        "colab": {
          "base_uri": "https://localhost:8080/"
        },
        "id": "11DwI3KmP_4x",
        "outputId": "b0d3cf63-0b20-4295-9994-969bcdb3e92f"
      },
      "execution_count": null,
      "outputs": [
        {
          "output_type": "stream",
          "name": "stdout",
          "text": [
            "palindrome\n"
          ]
        }
      ]
    },
    {
      "cell_type": "code",
      "source": [
        "# checking whether number is in a range or not\n",
        "\n",
        "def range(n):\n",
        "  if n>0 and n<1000:\n",
        "    print (\"num is in range:\",n)\n",
        "  else:\n",
        "    print (\"num is not in range: \",n)\n",
        "range(1002)"
      ],
      "metadata": {
        "colab": {
          "base_uri": "https://localhost:8080/"
        },
        "id": "3xhtR7pdVALg",
        "outputId": "f21ff420-d171-42d3-ae50-6309f69ba115"
      },
      "execution_count": null,
      "outputs": [
        {
          "output_type": "stream",
          "name": "stdout",
          "text": [
            "num is not in range:  1002\n"
          ]
        }
      ]
    },
    {
      "cell_type": "code",
      "source": [
        "def sum(a,b):\n",
        "  return a+b\n",
        "print (\"sum is :\",sum(10,12))"
      ],
      "metadata": {
        "colab": {
          "base_uri": "https://localhost:8080/"
        },
        "id": "YTBCIMvRZ3k-",
        "outputId": "d58e59ae-ec45-4b7f-a65f-c4dbfd67bb29"
      },
      "execution_count": null,
      "outputs": [
        {
          "output_type": "stream",
          "name": "stdout",
          "text": [
            "sum is : 22\n"
          ]
        }
      ]
    },
    {
      "cell_type": "code",
      "source": [
        "def square(n):\n",
        "  return n*n\n",
        "print (\"square of a number is:\",square(112))\n"
      ],
      "metadata": {
        "colab": {
          "base_uri": "https://localhost:8080/"
        },
        "id": "_jPCsrpgbBUn",
        "outputId": "9a1a3a01-e902-46e8-f41b-7f928cc5cbb4"
      },
      "execution_count": null,
      "outputs": [
        {
          "output_type": "stream",
          "name": "stdout",
          "text": [
            "square of a number is: 12544\n"
          ]
        }
      ]
    },
    {
      "cell_type": "code",
      "source": [
        "n = int (input (\"enter a number: \"))\n",
        "def even_odd(n):\n",
        "  if n%2==0:\n",
        "    print(\"number is even:\",n)\n",
        "  elif n%2!=0:\n",
        "    print(\"number is odd:\",n)\n",
        "  else:\n",
        "    print(\"enter the correct number\")\n",
        "even_odd(n)\n"
      ],
      "metadata": {
        "colab": {
          "base_uri": "https://localhost:8080/"
        },
        "id": "G8Uiy6-FbaGo",
        "outputId": "cd9fafe1-5f1c-4b3e-e805-73d3c46556ac"
      },
      "execution_count": null,
      "outputs": [
        {
          "output_type": "stream",
          "name": "stdout",
          "text": [
            "enter a number: 144\n",
            "number is even: 144\n"
          ]
        }
      ]
    },
    {
      "cell_type": "code",
      "source": [
        "def fact(n):  \n",
        "    return 1 if (n==1 or n==0) else n * fact(n - 1);  \n",
        "  \n",
        "num = 0\n",
        "print(\"Factorial of\",num,\"is\",)  \n",
        "fact(num)"
      ],
      "metadata": {
        "colab": {
          "base_uri": "https://localhost:8080/"
        },
        "id": "xnNmlcAmdrG7",
        "outputId": "9d663283-d72a-4246-c482-55bc584b4490"
      },
      "execution_count": null,
      "outputs": [
        {
          "output_type": "stream",
          "name": "stdout",
          "text": [
            "Factorial of 0 is\n"
          ]
        },
        {
          "output_type": "execute_result",
          "data": {
            "text/plain": [
              "1"
            ]
          },
          "metadata": {},
          "execution_count": 46
        }
      ]
    },
    {
      "cell_type": "code",
      "source": [
        ""
      ],
      "metadata": {
        "id": "9YTAkekbfJxW"
      },
      "execution_count": null,
      "outputs": []
    }
  ]
}