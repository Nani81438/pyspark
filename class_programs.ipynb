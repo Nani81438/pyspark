{
  "nbformat": 4,
  "nbformat_minor": 0,
  "metadata": {
    "colab": {
      "name": "class programs.ipynb",
      "provenance": [],
      "collapsed_sections": [],
      "authorship_tag": "ABX9TyNqu4LhAGQ1rmUfBkzHUB5d",
      "include_colab_link": true
    },
    "kernelspec": {
      "name": "python3",
      "display_name": "Python 3"
    },
    "language_info": {
      "name": "python"
    }
  },
  "cells": [
    {
      "cell_type": "markdown",
      "metadata": {
        "id": "view-in-github",
        "colab_type": "text"
      },
      "source": [
        "<a href=\"https://colab.research.google.com/github/Nani81438/Vn2T03/blob/main/class_programs.ipynb\" target=\"_parent\"><img src=\"https://colab.research.google.com/assets/colab-badge.svg\" alt=\"Open In Colab\"/></a>"
      ]
    },
    {
      "cell_type": "code",
      "source": [
        "#creating a class:\n",
        "class sample:\n",
        "  pass\n",
        "my_sample = sample()\n",
        "type(my_sample)"
      ],
      "metadata": {
        "colab": {
          "base_uri": "https://localhost:8080/"
        },
        "id": "PG91XvWN5kSZ",
        "outputId": "dffb5532-e3cb-4900-a805-3311f3121752"
      },
      "execution_count": null,
      "outputs": [
        {
          "output_type": "execute_result",
          "data": {
            "text/plain": [
              "__main__.sample"
            ]
          },
          "metadata": {},
          "execution_count": 3
        }
      ]
    },
    {
      "cell_type": "code",
      "source": [
        "#creating a class and attributes\n",
        "class dog:                    # class \n",
        "  def __init__ (self,breed,price):    # creating attributes, \n",
        "    self.breed = breed\n",
        "    self.price = price\n",
        "my_dog = dog(breed ='husky',price = 40000)  #variable\n",
        "print(my_dog.breed)\n",
        "print(my_dog.price)"
      ],
      "metadata": {
        "colab": {
          "base_uri": "https://localhost:8080/"
        },
        "id": "aReiOZga6IuP",
        "outputId": "547170a6-cfb1-49e3-b0e1-fbcde133d2f5"
      },
      "execution_count": null,
      "outputs": [
        {
          "output_type": "stream",
          "name": "stdout",
          "text": [
            "husky\n",
            "40000\n"
          ]
        }
      ]
    },
    {
      "cell_type": "code",
      "source": [
        "#creating a class and attributes and methods(functions)\n",
        "class dog:                    # class \n",
        "  def __init__ (self,breed,price):    # creating attributes, \n",
        "    self.breed = breed\n",
        "    self.price = price\n",
        "  def bark(self,number):\n",
        "    print (\"bowwwwwwwwwwwwwwwwww : {}\",self.breed)\n",
        "    #print (\"wooooooooooff: {}\",format(self.breed)) # format function is used to add int and string data types\n",
        "    #print (\"woooooof:  {} and my number is\".format(self.breed,number))\n",
        "my_dog = dog(breed ='retriever',price = 50000)\n",
        "print(my_dog.breed)\n",
        "print(my_dog.price)\n",
        "my_dog.bark(20)\n"
      ],
      "metadata": {
        "colab": {
          "base_uri": "https://localhost:8080/"
        },
        "id": "P1SXuJt-8tEN",
        "outputId": "b12dc384-ca6b-4e7f-def8-c1032e6ddd51"
      },
      "execution_count": null,
      "outputs": [
        {
          "output_type": "stream",
          "name": "stdout",
          "text": [
            "retriever\n",
            "50000\n",
            "bowwwwwwwwwwwwwwwwww : {} retriever\n"
          ]
        }
      ]
    },
    {
      "cell_type": "code",
      "source": [
        "class circle:\n",
        "  pi = 3.14 #CLASS OBJECT ATTRIBUTE\n",
        "  def __init__ (self,radius):\n",
        "    self.radius = radius\n",
        "  def area(self):\n",
        "    return self.pi * self.radius**2\n",
        "area_circle = circle(6)\n",
        "area_circle.area()"
      ],
      "metadata": {
        "colab": {
          "base_uri": "https://localhost:8080/"
        },
        "id": "T844s_bWB2l6",
        "outputId": "9441080e-a52a-4c22-ff12-33539584e1b0"
      },
      "execution_count": null,
      "outputs": [
        {
          "output_type": "execute_result",
          "data": {
            "text/plain": [
              "113.04"
            ]
          },
          "metadata": {},
          "execution_count": 30
        }
      ]
    },
    {
      "cell_type": "code",
      "source": [
        "#area of a rectangle\n",
        "class rect:\n",
        "  def __init__ (self,l,b):\n",
        "    self.l = l\n",
        "    self.b = b\n",
        "  def rect_area(self):\n",
        "    return self.l*self.b\n",
        "area_of_rect = rect(5,6)\n",
        "area_of_rect .rect_area()\n",
        "\n",
        "\n"
      ],
      "metadata": {
        "colab": {
          "base_uri": "https://localhost:8080/"
        },
        "id": "M9mQBaodDhK2",
        "outputId": "67e17f9d-29f8-4168-92b2-e2994b50ac66"
      },
      "execution_count": null,
      "outputs": [
        {
          "output_type": "execute_result",
          "data": {
            "text/plain": [
              "30"
            ]
          },
          "metadata": {},
          "execution_count": 32
        }
      ]
    },
    {
      "cell_type": "code",
      "source": [
        "# employee info\n",
        "class emp:\n",
        "  def __init__ (self,id,name,salary):\n",
        "    self.id = id\n",
        "    self.name = name \n",
        "    self.salary = salary\n",
        "  def get_info(self):\n",
        "    return self.id,self.name,self.salary\n",
        "    \n",
        "employee = emp(40,'prasanna',40000)\n",
        "employee.get_info()\n",
        "    \n"
      ],
      "metadata": {
        "colab": {
          "base_uri": "https://localhost:8080/"
        },
        "id": "UT9hfFOxERXN",
        "outputId": "4e631eb9-4dfa-4ee2-b7a1-cea99a13f2a9"
      },
      "execution_count": null,
      "outputs": [
        {
          "output_type": "execute_result",
          "data": {
            "text/plain": [
              "(40, 'prasanna', 40000)"
            ]
          },
          "metadata": {},
          "execution_count": 34
        }
      ]
    },
    {
      "cell_type": "code",
      "source": [
        "n = int (input(\"enter the amount\"))\n",
        "t = float(input(\"enter the time: \"))\n",
        "class Ticket:\n",
        "  def __init__ (self,amount,time,grade):\n",
        "    self.amount = amount\n",
        "    self.time = time \n",
        "    self.grade = grade\n",
        "  \n",
        "  def tk(self):\n",
        "    if self.amount  >= 500:\n",
        "      print (self.grade,\" is first class\")\n",
        "    elif self.amount  <= 500 or self.amount >=450:\n",
        "      print (self.grade,\" is second class\")\n",
        "    elif self.amount < 400:\n",
        "      print (self.grade,\" is third class\")\n",
        "    return (self.time,self.amount,self.grade)\n",
        "got_it = Ticket(n,t,\"grade\")\n",
        "got_it.tk()\n",
        " "
      ],
      "metadata": {
        "colab": {
          "base_uri": "https://localhost:8080/"
        },
        "id": "2avOu4Q4FQnR",
        "outputId": "ecaea111-c257-4326-a616-08da7b53054d"
      },
      "execution_count": null,
      "outputs": [
        {
          "output_type": "stream",
          "name": "stdout",
          "text": [
            "enter the amount700\n",
            "enter the time: 5.15\n",
            "grade  is first class\n"
          ]
        },
        {
          "output_type": "execute_result",
          "data": {
            "text/plain": [
              "(5.15, 700, 'grade')"
            ]
          },
          "metadata": {},
          "execution_count": 57
        }
      ]
    },
    {
      "cell_type": "code",
      "source": [
        "#1.python program to check leap year using oops\n",
        "class LeapYear:\n",
        "  def __init__(self,year):\n",
        "     self.year = year\n",
        "     \n",
        "\n",
        "  def check_leap(self):\n",
        "    if ((self.year%4==0)or\n",
        "    (self.year%100!=0) and\n",
        "    (self.year%400 ==0)):\n",
        "      print (type(self.year))\n",
        "      print (self.year,\" it is a leap year\")\n",
        "    else:\n",
        "      print (self.year,\"not a leap year\")\n",
        "\n",
        "\n",
        "    \n",
        "   \n",
        "y1 = LeapYear()\n",
        "y1.check_leap()\n",
        "\n",
        "\n",
        "\n",
        "\n"
      ],
      "metadata": {
        "colab": {
          "base_uri": "https://localhost:8080/"
        },
        "id": "yv1HP0ddhwkn",
        "outputId": "13b02d48-0d8e-4283-c004-f36fd142a697"
      },
      "execution_count": null,
      "outputs": [
        {
          "output_type": "stream",
          "name": "stdout",
          "text": [
            "<class 'int'>\n",
            "1988  it is a leap year\n"
          ]
        }
      ]
    },
    {
      "cell_type": "code",
      "source": [
        "#class to find student grade # includehelp.com\n",
        "class Student:\n",
        "  # initiating\n",
        "  def __init__(self):\n",
        "    self.roll = 0\n",
        "    self.name = \" \"\n",
        "    self.marks = []\n",
        "    self.total = 0\n",
        "    self.per = 0\n",
        "    self.grade = \"\"\n",
        "    self.result = \"\"\n",
        "  \n",
        "  # taking input details of student\n",
        "  def SetStudent(self):\n",
        "        self.roll=int(input(\"Enter Roll: \"))\n",
        "        self.name=input(\"Enter Name: \")\n",
        "        print(\"Enter marks of 5 subjects: \")\n",
        "        for i in range(5):\n",
        "            self.marks.append(int(input(\"Subject \"+str(i+1)+\": \")))\n",
        "  # calculating the total\n",
        "  def calculateTotal(self):\n",
        "        for x in self.marks:\n",
        "            self.total+=x\n",
        "  #calculate the percentage\n",
        "  def calculatePercentage(self):\n",
        "        self.per=self.total/5\n",
        "  #calculate the grade\n",
        "  def calculateGrade(self):\n",
        "        if self.per>=85:\n",
        "            self.grade=\"S\"\n",
        "        elif self.per>=75:\n",
        "            self.grade=\"A\"\n",
        "        elif self.per>=65:\n",
        "            self.grade=\"B\"\n",
        "        elif self.per>=55:\n",
        "            self.grade=\"C\"\n",
        "        elif self.per>=50:\n",
        "            self.grade=\"D\"\n",
        "        else:\n",
        "            self.grade=\"F\"\n",
        "\n",
        "  # pass/fail;\n",
        "  def calculateResult(self):\n",
        "        count=0\n",
        "        for x in self.marks:\n",
        "            if x>=50:\n",
        "                count+=1\n",
        "        if count==5:\n",
        "            self.result=\"PASS\"\n",
        "        elif count>=3:\n",
        "            self.result=\"COMP.\"\n",
        "        else:\n",
        "            self.result=\"FAIL\"\n",
        "   # show to student\n",
        "  def showStudent(self):\n",
        "      self.calculateTotal()\n",
        "      self.calculatePercentage()\n",
        "      self.calculateGrade()\n",
        "      self.calculateResult()\n",
        "      print(self.roll,\"\\t\\t\",self.name,\"\\t\\t\",self.total,\"\\t\\t\",self.per,\"\\t\\t\",self.grade,\"\\t\\t\",self.result)\n",
        "def main():\n",
        "#Student object\n",
        "  s=Student()\n",
        "  s.SetStudent()\n",
        "  s.showStudent()\n",
        "\n",
        "if __name__==\"__main__\":\n",
        "    main()"
      ],
      "metadata": {
        "colab": {
          "base_uri": "https://localhost:8080/"
        },
        "id": "TFSyCq3wempg",
        "outputId": "effd3295-dc41-43e5-9411-aa8cc045f5f8"
      },
      "execution_count": null,
      "outputs": [
        {
          "output_type": "stream",
          "name": "stdout",
          "text": [
            "Enter Roll: 95\n",
            "Enter Name: hnfjsh\n",
            "Enter marks of 5 subjects: \n",
            "Subject 1: 95\n",
            "Subject 2: 96\n",
            "Subject 3: 98\n",
            "Subject 4: 96\n",
            "Subject 5: 98\n",
            "95 \t\t hnfjsh \t\t 483 \t\t 96.6 \t\t S \t\t PASS\n"
          ]
        }
      ]
    },
    {
      "cell_type": "code",
      "source": [
        "8.9# Define a class for Checking Armstrong number\n",
        "class Check :\n",
        "\n",
        "    # Constructor\n",
        "    def __init__(self,number) :\n",
        "        self.num = number\n",
        "        \n",
        "    # define a method for checking number is Armstrong or not \n",
        "    def isArmstrong(self) :\n",
        "\n",
        "        # copy num attribute to the temp variable\n",
        "        temp = self.num\n",
        "        res = 0\n",
        "\n",
        "        # run the loop untill temp is not equal to zero\n",
        "        while(temp != 0) :\n",
        "            \n",
        "            rem = temp % 10\n",
        "\n",
        "            res += rem ** 3\n",
        "\n",
        "            # integer division\n",
        "            temp //= 10\n",
        "\n",
        "        # check result equal to the num attribute or not\n",
        "        if self.num == res :\n",
        "            print(self.num,\"is Armstrong\")\n",
        "        else :\n",
        "            print(self.num,\"is not Armstrong\")\n",
        "\n",
        "\n",
        "# Driver code \n",
        "if __name__ == \"__main__\" :\n",
        "    \n",
        "    # input number\n",
        "    num = 153\n",
        "    \n",
        "    # make an object of Check class\n",
        "    check_Armstrong = Check(num)\n",
        "    \n",
        "    # check_Armstrong object's method call\n",
        "    check_Armstrong.isArmstrong()\n",
        "    \n",
        "    num = 127\n",
        "    check_Armstrong = Check(num)\n",
        "    check_Armstrong.isArmstrong()      \n"
      ],
      "metadata": {
        "colab": {
          "base_uri": "https://localhost:8080/"
        },
        "id": "wHXmFkP-hv08",
        "outputId": "9ea49249-b45b-4d8c-c466-676b9b058bfc"
      },
      "execution_count": null,
      "outputs": [
        {
          "output_type": "stream",
          "name": "stdout",
          "text": [
            "153 is Armstrong\n",
            "127 is not Armstrong\n"
          ]
        }
      ]
    },
    {
      "cell_type": "code",
      "source": [
        "\n",
        "class student:\n",
        "  def __init__(self,r_no,name,age):\n",
        "    self.r_no = r_no\n",
        "    self.name = name\n",
        "    self.age = age\n",
        "  def display(self):\n",
        "    print (self.r_no,end = '\\t\\t')\n",
        "    print (self.name,end = '\\t\\t')\n",
        "    print (self.age)\n",
        "print(\"student details entry: \")\n",
        "r_no = input (\"enter roll no: \")\n",
        "name = input (\"enter name: \")\n",
        "age = int(input (\"enter age: \"))\n",
        "st = student(r_no,name,age)  # creating an object\n",
        "print (\"student info\")\n",
        "print (\"r_no\\t\\tname\\t\\tage\")\n",
        "st.display()"
      ],
      "metadata": {
        "colab": {
          "base_uri": "https://localhost:8080/"
        },
        "id": "htXw8jgZoH6Y",
        "outputId": "76662bda-73f5-4419-ede5-0a6cd246da2b"
      },
      "execution_count": null,
      "outputs": [
        {
          "output_type": "stream",
          "name": "stdout",
          "text": [
            "student details entry: \n",
            "enter roll no: a\n",
            "enter name: varshitha\n",
            "enter age: 7\n",
            "student info\n",
            "r_no\t\tname\t\tage\n",
            "a\t\tvarshitha\t\t7\n"
          ]
        }
      ]
    },
    {
      "cell_type": "code",
      "source": [
        "class car:\n",
        "  def __init__(self,brand,fuel_type,price): # initiating the class\n",
        "    self.brand = brand\n",
        "    self.fuel_type = fuel_type\n",
        "    self.price = price\n",
        "  def display(self):  # \n",
        "    print(self.brand,end = '\\t\\t')\n",
        "    print(self.fuel_type,end = '\\t\\t')\n",
        "    print(self.price,end = '\\t\\t')\n",
        "\n",
        "print (\"car details:\")\n",
        "brand = input (\"brand name\")\n",
        "fuel_type = input (\"fuel_type\")\n",
        "price = int (input(\"enter the price:\"))\n",
        "c = car(brand,fuel_type,price) # creating an object\n",
        "print (\"car info:\")\n",
        "print (\"brand\\t\\tfuel_type\\t\\tprice\")\n",
        "c.display()"
      ],
      "metadata": {
        "colab": {
          "base_uri": "https://localhost:8080/"
        },
        "id": "-iCd9MC44AVw",
        "outputId": "c440c8a8-21fd-4e37-8631-1e169ddf0939"
      },
      "execution_count": null,
      "outputs": [
        {
          "output_type": "stream",
          "name": "stdout",
          "text": [
            "car details:\n",
            "brand namemaruthi\n",
            "fuel_typepetro\n",
            "enter the price:1000000\n",
            "car info:\n",
            "brand\t\tfuel_type\t\tprice\n",
            "maruthi\t\tpetro\t\t1000000\t\t"
          ]
        }
      ]
    },
    {
      "cell_type": "code",
      "source": [
        "\n",
        "\\# loan approval\n",
        "class hdfc:\n",
        "  def __init__(self,job,salary):\n",
        "    self.job = job\n",
        "    self.salary = salary\n",
        "    \n",
        "  def approval(self):\n",
        "    if self.salary >= 50000:\n",
        "      print (\"loan is approved\")\n",
        "    else:\n",
        "      print (\"loan is not approved\")\n",
        "job = input(\"enter the type of job:\")\n",
        "salary =  int (input(\"enter the salary:\"))\n",
        "h = hdfc(job,salary)\n",
        "h.approval()"
      ],
      "metadata": {
        "id": "DcmdsKw166_a",
        "colab": {
          "base_uri": "https://localhost:8080/"
        },
        "outputId": "db911638-1624-4c8f-d70f-0af3abad5316"
      },
      "execution_count": null,
      "outputs": [
        {
          "output_type": "stream",
          "name": "stdout",
          "text": [
            "enter the type of job:nfjku\n",
            "enter the salary:15000\n",
            "loan is not approved\n"
          ]
        }
      ]
    },
    {
      "cell_type": "code",
      "source": [
        "#Program for addition of two numbers by using Classes and objects\n",
        "class Addition:\n",
        "  def getvalues(self):\n",
        "    self.a=float(input(\"Enter Value of a:\"))\n",
        "    self.b=float(input(\"Enter Value of b:\"))\n",
        "  def findsum(self):\n",
        "    self.getvalues()\n",
        "    self.c=self.a+self.b\n",
        "    self.dispvalues()\n",
        "  def dispvalues(self):\n",
        "    print(\"Val of a={}\".format(self.a))\n",
        "    print(\"Val of b={}\".format(self.b))\n",
        "    print(\"Sum={}\".format(self.c))\n",
        "#main program\n",
        "ao=Addition()\n",
        "ao.findsum()"
      ],
      "metadata": {
        "id": "_86cuQY_M7SV",
        "colab": {
          "base_uri": "https://localhost:8080/"
        },
        "outputId": "86aa2bb0-01e9-41a8-cb03-056b76c933dd"
      },
      "execution_count": null,
      "outputs": [
        {
          "output_type": "stream",
          "name": "stdout",
          "text": [
            "Enter Value of a:58\n",
            "Enter Value of b:5872\n",
            "Val of a=58.0\n",
            "Val of b=5872.0\n",
            "Sum=5930.0\n"
          ]
        }
      ]
    },
    {
      "cell_type": "markdown",
      "source": [
        "**INHERITANCE**"
      ],
      "metadata": {
        "id": "pVBOJBX2VEA6"
      }
    },
    {
      "cell_type": "code",
      "source": [
        "class animal:   # base class or parent class\n",
        "  def __init__ (self):\n",
        "    print (\"animal created\")\n",
        "  def who_am_i(self):\n",
        "    print (\"i am an animal\")\n",
        "  def eat(self):\n",
        "    print (\"i am eating\")\n",
        "class dog(animal): #child class\n",
        "  def __init__(self):\n",
        "    print (\"dog created\")\n",
        "  def who_am_i(self):\n",
        "    print (\"i am a dog\")\n",
        "a = animal()\n",
        "a.who_am_i()\n",
        "a.eat()\n",
        "my_dog= dog()\n",
        "my_dog.who_am_i()\n",
        "my_dog.eat()"
      ],
      "metadata": {
        "id": "xWGsrK8mY16A",
        "colab": {
          "base_uri": "https://localhost:8080/"
        },
        "outputId": "11a9af8c-f685-4759-c7b4-7c170d7dc1e6"
      },
      "execution_count": null,
      "outputs": [
        {
          "output_type": "stream",
          "name": "stdout",
          "text": [
            "animal created\n",
            "i am an animal\n",
            "i am eating\n",
            "dog created\n",
            "i am a dog\n",
            "i am eating\n"
          ]
        }
      ]
    },
    {
      "cell_type": "code",
      "source": [
        "class human:\n",
        "  def __init__(self):\n",
        "    print (\"human created\")\n",
        "  def type(self):\n",
        "    print (\"i am a boy\")\n",
        "  def activities(self):\n",
        "    print (\"eat,drink,walk,run,sleep\")\n",
        "class nani(human):\n",
        "  def __init__(self):\n",
        "    print (\"nani created\")\n",
        "a = human()\n",
        "a.type()\n",
        "a.activities()\n",
        "b = nani()\n",
        "b.type()\n",
        "b.activities()\n",
        "\n",
        "\n"
      ],
      "metadata": {
        "colab": {
          "base_uri": "https://localhost:8080/"
        },
        "id": "e0SFh6GXWomw",
        "outputId": "2633bf91-50d7-4ecc-8878-569a93c658fa"
      },
      "execution_count": null,
      "outputs": [
        {
          "output_type": "stream",
          "name": "stdout",
          "text": [
            "human created\n",
            "i am a boy\n",
            "eat,drink,walk,run,sleep\n",
            "nani created\n",
            "i am a boy\n",
            "eat,drink,walk,run,sleep\n"
          ]
        }
      ]
    },
    {
      "cell_type": "markdown",
      "source": [
        "**POLYMORPHISM**"
      ],
      "metadata": {
        "id": "eKm9MY1Ga5TK"
      }
    },
    {
      "cell_type": "code",
      "source": [
        "class dog:\n",
        "  def __init__(self,name):\n",
        "    self.name = name\n",
        "  def speak(self):\n",
        "    return self.name +  \" says woooof\"\n"
      ],
      "metadata": {
        "id": "t_Ya6livYpFj"
      },
      "execution_count": null,
      "outputs": []
    },
    {
      "cell_type": "code",
      "source": [
        "class cat:\n",
        "  def __init__(self,name):\n",
        "    self.name = name\n",
        "  def speak(self):\n",
        "    return self.name +  \" says meow\"\n"
      ],
      "metadata": {
        "id": "Upe1rZzdaz1B"
      },
      "execution_count": null,
      "outputs": []
    },
    {
      "cell_type": "code",
      "source": [
        "niko = dog(\"niko\")\n",
        "flexi = cat(\"flexi\") "
      ],
      "metadata": {
        "id": "gr_W5AgQa0o1"
      },
      "execution_count": null,
      "outputs": []
    },
    {
      "cell_type": "code",
      "source": [
        "print(niko. speak())\n",
        "print(flexi.speak())"
      ],
      "metadata": {
        "colab": {
          "base_uri": "https://localhost:8080/"
        },
        "id": "acV716nOboXz",
        "outputId": "33436844-04ae-4d4a-b397-d4506a9f1301"
      },
      "execution_count": null,
      "outputs": [
        {
          "output_type": "stream",
          "name": "stdout",
          "text": [
            "niko says woooof\n",
            "flexi says meow\n"
          ]
        }
      ]
    },
    {
      "cell_type": "code",
      "source": [
        "for pet in [niko,flexi]:\n",
        "  print (type(pet))\n",
        "  print (pet.speak())"
      ],
      "metadata": {
        "colab": {
          "base_uri": "https://localhost:8080/"
        },
        "id": "N5ao2BtRbzk2",
        "outputId": "402efb8a-c9ae-4ff1-f2fc-0a3fd0b7c0de"
      },
      "execution_count": null,
      "outputs": [
        {
          "output_type": "stream",
          "name": "stdout",
          "text": [
            "<class '__main__.dog'>\n",
            "niko says woooof\n",
            "<class '__main__.cat'>\n",
            "flexi says meow\n"
          ]
        }
      ]
    },
    {
      "cell_type": "code",
      "source": [
        "def pet_speak (pet):\n",
        "  print (pet.speak())\n",
        "\n",
        "pet_speak (niko)"
      ],
      "metadata": {
        "colab": {
          "base_uri": "https://localhost:8080/"
        },
        "id": "kQ_wWLh9cZcV",
        "outputId": "1ca52472-f05a-4668-8902-5489e225f312"
      },
      "execution_count": null,
      "outputs": [
        {
          "output_type": "stream",
          "name": "stdout",
          "text": [
            "niko says woooof\n"
          ]
        }
      ]
    },
    {
      "cell_type": "code",
      "source": [
        "#special methods \n",
        "class book:\n",
        "  def __init__(self,name,author,pages):\n",
        "    self.name = name\n",
        "    self.author = author\n",
        "    self.pages = pages\n",
        "  def __str__(self):              # special method for strings\n",
        "    return f\"{self.name} by {self.author} of {self.pages} pages\"\n",
        "  def __len__(self): \n",
        "    print (b.__len__())      # special method for finding the length\n",
        "    return self.pages\n",
        "  def __del__(self):         ## special method for deleting the object\n",
        "    return f\"a book object has been deleted\"\n",
        "b = book('pyhon rocks','jose',200)\n",
        "print (b.__str__())\n",
        "print (b.__len__())\n",
        "print (b.__del__())"
      ],
      "metadata": {
        "colab": {
          "base_uri": "https://localhost:8080/"
        },
        "id": "c5YWEwrsqzBV",
        "outputId": "5be411e4-d41d-4333-b83b-26ee49e338d2"
      },
      "execution_count": null,
      "outputs": [
        {
          "output_type": "stream",
          "name": "stdout",
          "text": [
            "pyhon rocks by jose of 200 pages\n",
            "200\n",
            "a book object has been deleted\n"
          ]
        }
      ]
    },
    {
      "cell_type": "code",
      "source": [
        "\n",
        "class line:\n",
        "  def __init__(self,cor1,cor2):\n",
        "    self.cor1 = cor1\n",
        "    self.cor2 = cor2\n",
        "  def distance(self):\n",
        "    x1,y1 = self.cor1\n",
        "    x2,y2 = self.cor2\n",
        "    return ((x2-x1)**2 + (y2-y1)**2)**0.5\n",
        "  def slope(self):\n",
        "    x1,y1 = self.cor1\n",
        "    x2,y2 = self.cor2\n",
        "    return (y2-y1)/(x2-x1)\n",
        "\n",
        "coordinate1 = (3,2)\n",
        "coordinate2 = (8,10)\n",
        "ll = line (coordinate1, coordinate2)\n",
        "print(ll.distance())\n",
        "print(ll.slope())\n",
        " \n",
        "\n",
        "\n"
      ],
      "metadata": {
        "id": "7K3ic-TvukOw",
        "colab": {
          "base_uri": "https://localhost:8080/"
        },
        "outputId": "2e39c6c4-e23f-486a-952b-c852aef3775c"
      },
      "execution_count": null,
      "outputs": [
        {
          "output_type": "stream",
          "name": "stdout",
          "text": [
            "9.433981132056603\n",
            "1.6\n"
          ]
        }
      ]
    },
    {
      "cell_type": "code",
      "source": [
        "class cylinder:\n",
        "  def __init__(self,radius,height):\n",
        "    self.radius = radius\n",
        "    self.height = height\n",
        "  def volume(self):\n",
        "    return self.height *3.14*(self.height)**2\n",
        "  def surface_area(self):\n",
        "    top = 3.14*(self.radius)**2\n",
        "    return (2*top)+(2*3.14*self.radius*self.height)\n",
        "c = cylinder(2,3)\n",
        "print(c.volume(),f\"is the volume\")\n",
        "print(c.surface_area(),f\"is the surface area\")\n"
      ],
      "metadata": {
        "id": "K_cUxFYY67lk",
        "colab": {
          "base_uri": "https://localhost:8080/"
        },
        "outputId": "eacbd34a-4c3c-4d57-cd71-b7bea761b16d"
      },
      "execution_count": null,
      "outputs": [
        {
          "output_type": "stream",
          "name": "stdout",
          "text": [
            "84.78 is the volume\n",
            "62.8 is the surface area\n"
          ]
        }
      ]
    },
    {
      "cell_type": "code",
      "source": [
        "class square:\n",
        "  def __init__(self,a):\n",
        "    self.a = a\n",
        "  def area(self):\n",
        "    return self.a**2\n",
        "  def perimeter(self):\n",
        "    return 4*self.a\n",
        "s = square(4)\n",
        "print(s.area())\n",
        "print(s.perimeter())"
      ],
      "metadata": {
        "colab": {
          "base_uri": "https://localhost:8080/"
        },
        "id": "l5Ti1qi-MJ3a",
        "outputId": "fedb9a28-a045-46ec-a4ec-7f620714010f"
      },
      "execution_count": null,
      "outputs": [
        {
          "output_type": "stream",
          "name": "stdout",
          "text": [
            "16\n",
            "16\n"
          ]
        }
      ]
    },
    {
      "cell_type": "code",
      "source": [
        "class str_int:\n",
        "  def __init__(self,a,b):\n",
        "    self.a = a\n",
        "    self.b = b\n",
        "  def string(self):\n",
        "    if (type(self.a) == str) and (type(self.b) == str):\n",
        "      return self.a+self.b\n",
        "  def integer(self):\n",
        "    if (type(self.a) == int) and (type(self.b) == int):\n",
        "      return self.a*self.b\n",
        "si = str_int(\"45\",\"jcjjfccjk\")\n",
        "print(si.string())\n",
        "print(si.integer())  \n",
        "    "
      ],
      "metadata": {
        "colab": {
          "base_uri": "https://localhost:8080/"
        },
        "id": "tq1HvyI7NjCQ",
        "outputId": "57909ee5-25d6-4d6f-e615-5d1865df29aa"
      },
      "execution_count": null,
      "outputs": [
        {
          "output_type": "stream",
          "name": "stdout",
          "text": [
            "45jcjjfccjk\n",
            "None\n"
          ]
        }
      ]
    },
    {
      "cell_type": "code",
      "source": [
        "#method for withdrawing the amount \n",
        "class account:\n",
        "  def __init__(self,bal,owner):\n",
        "    self.bal = bal\n",
        "    self.owner = owner\n",
        "  \n",
        "  def __str__(self):\n",
        "        return f'Account owner:   {self.owner}\\nAccount balance: ${self.balance}'\n",
        "\n",
        "  def deposit(self):\n",
        "    return f\"deposit accepted\"\n",
        "  def withdraw(self):\n",
        "    if withdrawl <=self.bal :\n",
        "      print (\"withdraw accepted\")\n",
        "    elif withdrawl >self.bal :\n",
        "      print (\"withdraw rejected\")\n",
        "    else:\n",
        "      pass\n",
        "\n"
      ],
      "metadata": {
        "id": "4Jgj8sa2NG-1"
      },
      "execution_count": null,
      "outputs": []
    },
    {
      "cell_type": "code",
      "source": [
        "acc = account(100000,\"nani\")"
      ],
      "metadata": {
        "id": "GhdW8eelR65z"
      },
      "execution_count": null,
      "outputs": []
    },
    {
      "cell_type": "code",
      "source": [
        "acc.bal"
      ],
      "metadata": {
        "colab": {
          "base_uri": "https://localhost:8080/"
        },
        "id": "SrEdm1jDS5NN",
        "outputId": "d5547fa9-44f1-428f-a211-fbaa1dc157fc"
      },
      "execution_count": null,
      "outputs": [
        {
          "output_type": "execute_result",
          "data": {
            "text/plain": [
              "100000"
            ]
          },
          "metadata": {},
          "execution_count": 31
        }
      ]
    },
    {
      "cell_type": "code",
      "source": [
        "acc.owner"
      ],
      "metadata": {
        "colab": {
          "base_uri": "https://localhost:8080/",
          "height": 35
        },
        "id": "dMDLXSmTS8dF",
        "outputId": "47aa5f0a-c05f-4fa4-c572-d4b116e19d45"
      },
      "execution_count": null,
      "outputs": [
        {
          "output_type": "execute_result",
          "data": {
            "text/plain": [
              "'nani'"
            ],
            "application/vnd.google.colaboratory.intrinsic+json": {
              "type": "string"
            }
          },
          "metadata": {},
          "execution_count": 32
        }
      ]
    },
    {
      "cell_type": "code",
      "source": [
        "withdrawl = int(input(\"enter the amount\"))\n",
        "acc.withdraw()"
      ],
      "metadata": {
        "colab": {
          "base_uri": "https://localhost:8080/"
        },
        "id": "snP7qqrnS-cS",
        "outputId": "05b8a35d-15de-4e6e-a68b-0ff37f3badef"
      },
      "execution_count": null,
      "outputs": [
        {
          "output_type": "stream",
          "name": "stdout",
          "text": [
            "enter the amount20000000\n",
            "withdraw rejected\n"
          ]
        }
      ]
    },
    {
      "cell_type": "code",
      "source": [
        "dep = int(input(\"enter the amount\"))\n",
        "acc.deposit()"
      ],
      "metadata": {
        "colab": {
          "base_uri": "https://localhost:8080/",
          "height": 53
        },
        "id": "KgzSE2hTTIht",
        "outputId": "aa4ae8b7-8512-4d17-c7f7-971d863a69c5"
      },
      "execution_count": null,
      "outputs": [
        {
          "name": "stdout",
          "output_type": "stream",
          "text": [
            "enter the amount5\n"
          ]
        },
        {
          "output_type": "execute_result",
          "data": {
            "text/plain": [
              "'deposit accepted'"
            ],
            "application/vnd.google.colaboratory.intrinsic+json": {
              "type": "string"
            }
          },
          "metadata": {},
          "execution_count": 35
        }
      ]
    },
    {
      "cell_type": "code",
      "source": [
        "class circle:\n",
        "  def __init__ (self,r):\n",
        "    self.r = r\n",
        "  def area(self):\n",
        "    return 3.14*self.r**2\n",
        "c = circle(4)\n",
        "c.area()"
      ],
      "metadata": {
        "id": "MlvS9T8jTZTO",
        "colab": {
          "base_uri": "https://localhost:8080/"
        },
        "outputId": "afda7de9-6912-4ef5-98b6-fd06dfbda2a7"
      },
      "execution_count": null,
      "outputs": [
        {
          "output_type": "execute_result",
          "data": {
            "text/plain": [
              "50.24"
            ]
          },
          "metadata": {},
          "execution_count": 2
        }
      ]
    },
    {
      "cell_type": "markdown",
      "source": [
        "**INHERITANCE**"
      ],
      "metadata": {
        "id": "wHAziPU9jzWu"
      }
    },
    {
      "cell_type": "code",
      "source": [
        "#1.single inheritance == parent to child\n",
        "class parent:\n",
        "  \n",
        "  def display(self):\n",
        "    print (\"parent\" )\n",
        "class child(parent):\n",
        "  def show(self):\n",
        "    print(\"child\")\n",
        "c = child()\n",
        "c.show()\n",
        "c.display()\n",
        "\n"
      ],
      "metadata": {
        "id": "_9MoLOI6TmW9",
        "colab": {
          "base_uri": "https://localhost:8080/"
        },
        "outputId": "17d78046-6814-4277-8080-ffc2d60fd904"
      },
      "execution_count": null,
      "outputs": [
        {
          "output_type": "stream",
          "name": "stdout",
          "text": [
            "child\n",
            "parent\n"
          ]
        }
      ]
    },
    {
      "cell_type": "code",
      "source": [
        "#2.multilevel inheritance #using child class we can access both the parent and grandparent classes\n",
        "class g_parent:\n",
        "  def g_display(self):\n",
        "    print (\"grand parent\" )\n",
        "\n",
        "class parent(g_parent):\n",
        "  def p_display(self):\n",
        "    print (\"parent\" )\n",
        "class child(parent):\n",
        "  def c_display(self):\n",
        "    print(\"child\")\n",
        "c = child()\n",
        "c.g_display()\n",
        "c.p_display()\n",
        "c.c_display()"
      ],
      "metadata": {
        "colab": {
          "base_uri": "https://localhost:8080/"
        },
        "id": "fgc6k2emoKbI",
        "outputId": "edaab138-7790-4ea7-dda4-0598e9c248b2"
      },
      "execution_count": null,
      "outputs": [
        {
          "output_type": "stream",
          "name": "stdout",
          "text": [
            "grand parent\n",
            "parent\n",
            "child\n"
          ]
        }
      ]
    },
    {
      "cell_type": "code",
      "source": [
        "#3..heirarchical inheritance# one parent and two children\n",
        "class parent:\n",
        "  def p_display(self):\n",
        "    print (\"parent\" )\n",
        "class child_1(parent):\n",
        "  def c1_display(self):\n",
        "    print(\"child\")\n",
        "class child_2(parent):\n",
        "  def c2_display(self):\n",
        "    print(\"child\")\n",
        "c1 = child_1()\n",
        "c1.p_display()\n",
        "#c1.c2_display() we cant access another child class\n",
        "c2 = child_2()\n",
        "c2.p_display()"
      ],
      "metadata": {
        "colab": {
          "base_uri": "https://localhost:8080/"
        },
        "id": "zSMioPhkpXv9",
        "outputId": "80f6ef9b-18f3-48ac-daee-f0d5895db77c"
      },
      "execution_count": null,
      "outputs": [
        {
          "output_type": "stream",
          "name": "stdout",
          "text": [
            "parent\n",
            "parent\n"
          ]
        }
      ]
    },
    {
      "cell_type": "code",
      "source": [
        "#4.multiple inheritance  == inheriting properties of multi parents using child class,father -mother -child\n",
        "class father:\n",
        "  def f_display(self):\n",
        "    print (\"father\" )\n",
        "class mother:\n",
        "  def m_display(self):\n",
        "    print (\"mother\" )\n",
        "\n",
        "class child(father,mother):\n",
        "  def c_display(self):\n",
        "    print(\"child\")\n",
        "c = child()\n",
        "c.c_display()\n",
        "c.f_display()\n",
        "c.m_display()\n"
      ],
      "metadata": {
        "colab": {
          "base_uri": "https://localhost:8080/"
        },
        "id": "nm8fq3qaqoXc",
        "outputId": "2640f418-b4cd-4c9f-b951-3046ed36c019"
      },
      "execution_count": null,
      "outputs": [
        {
          "output_type": "stream",
          "name": "stdout",
          "text": [
            "child\n",
            "father\n",
            "mother\n"
          ]
        }
      ]
    },
    {
      "cell_type": "code",
      "source": [
        "#5.hybrid inheritance\n",
        "class school:\n",
        "  def fun1_display(self):\n",
        "    print (\"i am school class\" )\n",
        "class teacher1(school):                # upto here single inheritance\n",
        "  def fun2_display(self):   \n",
        "    print (\"i am teacher1\" )            # upto here multilevel inheritance\n",
        "class teacher2(school):\n",
        "  def fun3_display(self):\n",
        "    print (\"i am teacher2\" )\n",
        "class student(teacher1,teacher2):         # heirarchical inheritance\n",
        "  def fun4_display(self):\n",
        "    print (\"i am student\" )\n",
        "c= student()\n",
        "c.fun1_display()\n",
        "c.fun2_display()\n",
        "c.fun3_display()\n",
        "c.fun4_display()"
      ],
      "metadata": {
        "colab": {
          "base_uri": "https://localhost:8080/"
        },
        "id": "H1Sy_Tu6sNHM",
        "outputId": "f89b80a8-14c2-4ce2-c6e6-2415e39eed82"
      },
      "execution_count": null,
      "outputs": [
        {
          "output_type": "stream",
          "name": "stdout",
          "text": [
            "i am school class\n",
            "i am teacher1\n",
            "i am teacher2\n",
            "i am student\n"
          ]
        }
      ]
    },
    {
      "cell_type": "code",
      "source": [
        "class parent:\n",
        "  def fun1(self):\n",
        "    print (\"parent\")\n",
        "class child(parent):\n",
        "  def fun2(self):\n",
        "    print (\"child\")\n",
        "c = child()\n",
        "c.fun1()\n",
        "c.fun2()"
      ],
      "metadata": {
        "id": "yYf8onGaEhHS",
        "colab": {
          "base_uri": "https://localhost:8080/"
        },
        "outputId": "00774601-7da0-48df-db6a-d9be2b683dd6"
      },
      "execution_count": null,
      "outputs": [
        {
          "output_type": "stream",
          "name": "stdout",
          "text": [
            "parent\n",
            "child\n"
          ]
        }
      ]
    },
    {
      "cell_type": "code",
      "source": [
        ""
      ],
      "metadata": {
        "id": "0sI_o4JOW0pj"
      },
      "execution_count": null,
      "outputs": []
    }
  ]
}